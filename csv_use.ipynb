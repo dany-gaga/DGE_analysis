{
  "nbformat": 4,
  "nbformat_minor": 0,
  "metadata": {
    "colab": {
      "provenance": [],
      "authorship_tag": "ABX9TyOIHeJ+RGnS8HiOLkeof+98",
      "include_colab_link": true
    },
    "kernelspec": {
      "name": "python3",
      "display_name": "Python 3"
    },
    "language_info": {
      "name": "python"
    }
  },
  "cells": [
    {
      "cell_type": "markdown",
      "metadata": {
        "id": "view-in-github",
        "colab_type": "text"
      },
      "source": [
        "<a href=\"https://colab.research.google.com/github/dany-gaga/DGE_analysis/blob/main/csv_use.ipynb\" target=\"_parent\"><img src=\"https://colab.research.google.com/assets/colab-badge.svg\" alt=\"Open In Colab\"/></a>"
      ]
    },
    {
      "cell_type": "code",
      "execution_count": null,
      "metadata": {
        "colab": {
          "base_uri": "https://localhost:8080/"
        },
        "id": "elvkxwjEcXx_",
        "outputId": "95a1c719-a63e-4360-f886-d51b15d03681"
      },
      "outputs": [
        {
          "output_type": "stream",
          "name": "stdout",
          "text": [
            "Drive already mounted at /content/gdrive/; to attempt to forcibly remount, call drive.mount(\"/content/gdrive/\", force_remount=True).\n"
          ]
        }
      ],
      "source": [
        "# run this code to mount Google Drive\n",
        "from google.colab import drive\n",
        "drive.mount('/content/gdrive/')"
      ]
    },
    {
      "cell_type": "code",
      "source": [
        "import os\n",
        "import numpy as np\n",
        "import pandas as pd\n",
        "import glob"
      ],
      "metadata": {
        "id": "NeGaNxgevkoS"
      },
      "execution_count": null,
      "outputs": []
    },
    {
      "cell_type": "code",
      "source": [
        "%cd /content/gdrive/MyDrive/from_snpeff-vcf_to_downstream_analysis"
      ],
      "metadata": {
        "colab": {
          "base_uri": "https://localhost:8080/"
        },
        "id": "TTQeSsd3vtYh",
        "outputId": "c695471f-5b2d-4d85-b6be-a9b31fffebad"
      },
      "execution_count": null,
      "outputs": [
        {
          "output_type": "stream",
          "name": "stdout",
          "text": [
            "/content/gdrive/MyDrive/from_snpeff-vcf_to_downstream_analysis\n"
          ]
        }
      ]
    },
    {
      "cell_type": "code",
      "source": [
        "def mergings(path, pattern, file_symbol, file_stat):\n",
        "    csvs = glob.glob(path + pattern)\n",
        "    field_symbol = ['Gene ID', 'Gene Name or Symbol']\n",
        "    field_stat = ['Gene', 'logFC', 'FDR','Description_Blast2GO']\n",
        "    for csv in csvs:\n",
        "        cs = pd.read_csv(csv)\n",
        "        f_s = pd.read_csv(file_symbol, usecols=field_symbol)\n",
        "        f_stat = pd.read_csv(file_stat, usecols=field_stat)\n",
        "\n",
        "        gene_symbol = pd.merge(cs, f_s, left_on='gene', right_on='Gene ID', how='left')\n",
        "        gene_symbol = pd.merge(gene_symbol, f_stat, left_on='gene', right_on='Gene', how='inner')\n",
        "        gene_symbol.to_csv(csv + \"_with_stat.csv\", index = False)"
      ],
      "metadata": {
        "id": "JxL3D7myxk9a"
      },
      "execution_count": null,
      "outputs": []
    },
    {
      "cell_type": "code",
      "source": [
        "mergings('/content/gdrive/MyDrive/from_snpeff-vcf_to_downstream_analysis/', 'BD*.csv', './genes_and_symbol.csv', './stat1_BD_vs_KIS.csv')"
      ],
      "metadata": {
        "id": "9bPHfoTd24Qo"
      },
      "execution_count": null,
      "outputs": []
    },
    {
      "cell_type": "code",
      "source": [
        "mergings('/content/gdrive/MyDrive/from_snpeff-vcf_to_downstream_analysis/', 'BP*.csv', './genes_and_symbol.csv', './stat1_BP_vs_KIS.csv')"
      ],
      "metadata": {
        "id": "Ic5gd3Uh30r9"
      },
      "execution_count": null,
      "outputs": []
    },
    {
      "cell_type": "code",
      "source": [
        "mergings('/content/gdrive/MyDrive/from_snpeff-vcf_to_downstream_analysis/', 'DD*.csv', './genes_and_symbol.csv', './stat1_DD_vs_KIS.csv')"
      ],
      "metadata": {
        "id": "uoLv9-0h345F"
      },
      "execution_count": null,
      "outputs": []
    },
    {
      "cell_type": "code",
      "source": [
        "mergings('/content/gdrive/MyDrive/from_snpeff-vcf_to_downstream_analysis/', 'DP*.csv', './genes_and_symbol.csv', './stat1_DP_vs_KIS.csv')"
      ],
      "metadata": {
        "id": "alfl2SeX3-cM"
      },
      "execution_count": null,
      "outputs": []
    },
    {
      "cell_type": "code",
      "source": [
        "files = glob.glob(\"/content/gdrive/MyDrive/from_snpeff-vcf_to_downstream_analysis/*_with_stat.csv\")\n",
        "\n",
        "for fp in files:\n",
        "    df = pd.read_csv(fp)\n",
        "    df['Sample_ID'] = os.path.basename(fp).split('.')[0][:4]\n",
        "    df.to_csv(fp, index=False)"
      ],
      "metadata": {
        "id": "xwcsSZat4JGs"
      },
      "execution_count": null,
      "outputs": []
    },
    {
      "cell_type": "code",
      "source": [
        "csv_list = []\n",
        "\n",
        "for filename in files:\n",
        "    df = pd.read_csv(filename, index_col=None, header=0)\n",
        "    csv_list.append(df)\n",
        "\n",
        "df_out = pd.concat(csv_list, axis=0, ignore_index=True)\n",
        "\n",
        "df_out.to_csv(\"all_csv.csv\")"
      ],
      "metadata": {
        "id": "sbXyBE7h66e5"
      },
      "execution_count": null,
      "outputs": []
    },
    {
      "cell_type": "code",
      "source": [
        "all_csv = pd.read_csv('all_csv.csv')\n",
        "all_csv.head(10)\n"
      ],
      "metadata": {
        "colab": {
          "base_uri": "https://localhost:8080/",
          "height": 638
        },
        "id": "TNCoMQQT55NV",
        "outputId": "dc1e951a-cfc4-4377-be95-c96305d82031"
      },
      "execution_count": null,
      "outputs": [
        {
          "output_type": "execute_result",
          "data": {
            "text/plain": [
              "   Unnamed: 0.1  Unnamed: 0     genome     POS  REF  ALT            effect  \\\n",
              "0             4           4  AgamP4_2L  204387    A    G  missense_variant   \n",
              "1             5           5  AgamP4_2L  204516  ATC  GTT  missense_variant   \n",
              "2             6           6  AgamP4_2L  204529    C    A  missense_variant   \n",
              "3             7           7  AgamP4_2L  204786    T    A  missense_variant   \n",
              "4            12          12  AgamP4_2L  460919    C    A  missense_variant   \n",
              "5            15          15  AgamP4_2L  485766    T    C  missense_variant   \n",
              "6            16          16  AgamP4_2L  488303    G    A  missense_variant   \n",
              "7            17          17  AgamP4_2L  493166    T    C  missense_variant   \n",
              "8            18          18  AgamP4_2L  493454    A    G  missense_variant   \n",
              "9            19          19  AgamP4_2L  493512    G    A  missense_variant   \n",
              "\n",
              "     impact        gene             mut_cdna  ... mut_type     Gene ID  \\\n",
              "0  MODERATE  AGAP004678               466A>G  ...      snp  AGAP004678   \n",
              "1  MODERATE  AGAP004678  595_597delATCinsGTT  ...  complex  AGAP004678   \n",
              "2  MODERATE  AGAP004678               608C>A  ...      snp  AGAP004678   \n",
              "3  MODERATE  AGAP004678               865T>A  ...      snp  AGAP004678   \n",
              "4  MODERATE  AGAP004682               164G>T  ...      snp  AGAP004682   \n",
              "5  MODERATE  AGAP004683              2179A>G  ...      snp  AGAP004683   \n",
              "6  MODERATE  AGAP004683                67C>T  ...      snp  AGAP004683   \n",
              "7  MODERATE  AGAP004684               128T>C  ...      snp  AGAP004684   \n",
              "8  MODERATE  AGAP004684               352A>G  ...      snp  AGAP004684   \n",
              "9  MODERATE  AGAP004684               410G>A  ...      snp  AGAP004684   \n",
              "\n",
              "  Gene Name or Symbol        Gene     logFC           FDR  \\\n",
              "0                 NaN  AGAP004678 -1.406740  4.063143e-28   \n",
              "1                 NaN  AGAP004678 -1.406740  4.063143e-28   \n",
              "2                 NaN  AGAP004678 -1.406740  4.063143e-28   \n",
              "3                 NaN  AGAP004678 -1.406740  4.063143e-28   \n",
              "4                 NaN  AGAP004682 -0.504557  1.729548e-06   \n",
              "5                 NaN  AGAP004683 -0.613243  4.309897e-08   \n",
              "6                 NaN  AGAP004683 -0.613243  4.309897e-08   \n",
              "7                 NaN  AGAP004684 -0.928101  2.813908e-11   \n",
              "8                 NaN  AGAP004684 -0.928101  2.813908e-11   \n",
              "9                 NaN  AGAP004684 -0.928101  2.813908e-11   \n",
              "\n",
              "                     Description_Blast2GO Sample_ID  Locality  Insecticides  \n",
              "0                        box C D snoRNA 1      BD01   Bassila  Deltamethrin  \n",
              "1                        box C D snoRNA 1      BD01   Bassila  Deltamethrin  \n",
              "2                        box C D snoRNA 1      BD01   Bassila  Deltamethrin  \n",
              "3                        box C D snoRNA 1      BD01   Bassila  Deltamethrin  \n",
              "4     U4 U6 small nuclear ribonucleo Prp3      BD01   Bassila  Deltamethrin  \n",
              "5  probable serine threonine- kinase clkA      BD01   Bassila  Deltamethrin  \n",
              "6  probable serine threonine- kinase clkA      BD01   Bassila  Deltamethrin  \n",
              "7        coiled-coil domain-containing 86      BD01   Bassila  Deltamethrin  \n",
              "8        coiled-coil domain-containing 86      BD01   Bassila  Deltamethrin  \n",
              "9        coiled-coil domain-containing 86      BD01   Bassila  Deltamethrin  \n",
              "\n",
              "[10 rows x 24 columns]"
            ],
            "text/html": [
              "\n",
              "  <div id=\"df-97a50e02-7e62-466b-bc12-e1ee99b6eb2c\" class=\"colab-df-container\">\n",
              "    <div>\n",
              "<style scoped>\n",
              "    .dataframe tbody tr th:only-of-type {\n",
              "        vertical-align: middle;\n",
              "    }\n",
              "\n",
              "    .dataframe tbody tr th {\n",
              "        vertical-align: top;\n",
              "    }\n",
              "\n",
              "    .dataframe thead th {\n",
              "        text-align: right;\n",
              "    }\n",
              "</style>\n",
              "<table border=\"1\" class=\"dataframe\">\n",
              "  <thead>\n",
              "    <tr style=\"text-align: right;\">\n",
              "      <th></th>\n",
              "      <th>Unnamed: 0.1</th>\n",
              "      <th>Unnamed: 0</th>\n",
              "      <th>genome</th>\n",
              "      <th>POS</th>\n",
              "      <th>REF</th>\n",
              "      <th>ALT</th>\n",
              "      <th>effect</th>\n",
              "      <th>impact</th>\n",
              "      <th>gene</th>\n",
              "      <th>mut_cdna</th>\n",
              "      <th>...</th>\n",
              "      <th>mut_type</th>\n",
              "      <th>Gene ID</th>\n",
              "      <th>Gene Name or Symbol</th>\n",
              "      <th>Gene</th>\n",
              "      <th>logFC</th>\n",
              "      <th>FDR</th>\n",
              "      <th>Description_Blast2GO</th>\n",
              "      <th>Sample_ID</th>\n",
              "      <th>Locality</th>\n",
              "      <th>Insecticides</th>\n",
              "    </tr>\n",
              "  </thead>\n",
              "  <tbody>\n",
              "    <tr>\n",
              "      <th>0</th>\n",
              "      <td>4</td>\n",
              "      <td>4</td>\n",
              "      <td>AgamP4_2L</td>\n",
              "      <td>204387</td>\n",
              "      <td>A</td>\n",
              "      <td>G</td>\n",
              "      <td>missense_variant</td>\n",
              "      <td>MODERATE</td>\n",
              "      <td>AGAP004678</td>\n",
              "      <td>466A&gt;G</td>\n",
              "      <td>...</td>\n",
              "      <td>snp</td>\n",
              "      <td>AGAP004678</td>\n",
              "      <td>NaN</td>\n",
              "      <td>AGAP004678</td>\n",
              "      <td>-1.406740</td>\n",
              "      <td>4.063143e-28</td>\n",
              "      <td>box C D snoRNA 1</td>\n",
              "      <td>BD01</td>\n",
              "      <td>Bassila</td>\n",
              "      <td>Deltamethrin</td>\n",
              "    </tr>\n",
              "    <tr>\n",
              "      <th>1</th>\n",
              "      <td>5</td>\n",
              "      <td>5</td>\n",
              "      <td>AgamP4_2L</td>\n",
              "      <td>204516</td>\n",
              "      <td>ATC</td>\n",
              "      <td>GTT</td>\n",
              "      <td>missense_variant</td>\n",
              "      <td>MODERATE</td>\n",
              "      <td>AGAP004678</td>\n",
              "      <td>595_597delATCinsGTT</td>\n",
              "      <td>...</td>\n",
              "      <td>complex</td>\n",
              "      <td>AGAP004678</td>\n",
              "      <td>NaN</td>\n",
              "      <td>AGAP004678</td>\n",
              "      <td>-1.406740</td>\n",
              "      <td>4.063143e-28</td>\n",
              "      <td>box C D snoRNA 1</td>\n",
              "      <td>BD01</td>\n",
              "      <td>Bassila</td>\n",
              "      <td>Deltamethrin</td>\n",
              "    </tr>\n",
              "    <tr>\n",
              "      <th>2</th>\n",
              "      <td>6</td>\n",
              "      <td>6</td>\n",
              "      <td>AgamP4_2L</td>\n",
              "      <td>204529</td>\n",
              "      <td>C</td>\n",
              "      <td>A</td>\n",
              "      <td>missense_variant</td>\n",
              "      <td>MODERATE</td>\n",
              "      <td>AGAP004678</td>\n",
              "      <td>608C&gt;A</td>\n",
              "      <td>...</td>\n",
              "      <td>snp</td>\n",
              "      <td>AGAP004678</td>\n",
              "      <td>NaN</td>\n",
              "      <td>AGAP004678</td>\n",
              "      <td>-1.406740</td>\n",
              "      <td>4.063143e-28</td>\n",
              "      <td>box C D snoRNA 1</td>\n",
              "      <td>BD01</td>\n",
              "      <td>Bassila</td>\n",
              "      <td>Deltamethrin</td>\n",
              "    </tr>\n",
              "    <tr>\n",
              "      <th>3</th>\n",
              "      <td>7</td>\n",
              "      <td>7</td>\n",
              "      <td>AgamP4_2L</td>\n",
              "      <td>204786</td>\n",
              "      <td>T</td>\n",
              "      <td>A</td>\n",
              "      <td>missense_variant</td>\n",
              "      <td>MODERATE</td>\n",
              "      <td>AGAP004678</td>\n",
              "      <td>865T&gt;A</td>\n",
              "      <td>...</td>\n",
              "      <td>snp</td>\n",
              "      <td>AGAP004678</td>\n",
              "      <td>NaN</td>\n",
              "      <td>AGAP004678</td>\n",
              "      <td>-1.406740</td>\n",
              "      <td>4.063143e-28</td>\n",
              "      <td>box C D snoRNA 1</td>\n",
              "      <td>BD01</td>\n",
              "      <td>Bassila</td>\n",
              "      <td>Deltamethrin</td>\n",
              "    </tr>\n",
              "    <tr>\n",
              "      <th>4</th>\n",
              "      <td>12</td>\n",
              "      <td>12</td>\n",
              "      <td>AgamP4_2L</td>\n",
              "      <td>460919</td>\n",
              "      <td>C</td>\n",
              "      <td>A</td>\n",
              "      <td>missense_variant</td>\n",
              "      <td>MODERATE</td>\n",
              "      <td>AGAP004682</td>\n",
              "      <td>164G&gt;T</td>\n",
              "      <td>...</td>\n",
              "      <td>snp</td>\n",
              "      <td>AGAP004682</td>\n",
              "      <td>NaN</td>\n",
              "      <td>AGAP004682</td>\n",
              "      <td>-0.504557</td>\n",
              "      <td>1.729548e-06</td>\n",
              "      <td>U4 U6 small nuclear ribonucleo Prp3</td>\n",
              "      <td>BD01</td>\n",
              "      <td>Bassila</td>\n",
              "      <td>Deltamethrin</td>\n",
              "    </tr>\n",
              "    <tr>\n",
              "      <th>5</th>\n",
              "      <td>15</td>\n",
              "      <td>15</td>\n",
              "      <td>AgamP4_2L</td>\n",
              "      <td>485766</td>\n",
              "      <td>T</td>\n",
              "      <td>C</td>\n",
              "      <td>missense_variant</td>\n",
              "      <td>MODERATE</td>\n",
              "      <td>AGAP004683</td>\n",
              "      <td>2179A&gt;G</td>\n",
              "      <td>...</td>\n",
              "      <td>snp</td>\n",
              "      <td>AGAP004683</td>\n",
              "      <td>NaN</td>\n",
              "      <td>AGAP004683</td>\n",
              "      <td>-0.613243</td>\n",
              "      <td>4.309897e-08</td>\n",
              "      <td>probable serine threonine- kinase clkA</td>\n",
              "      <td>BD01</td>\n",
              "      <td>Bassila</td>\n",
              "      <td>Deltamethrin</td>\n",
              "    </tr>\n",
              "    <tr>\n",
              "      <th>6</th>\n",
              "      <td>16</td>\n",
              "      <td>16</td>\n",
              "      <td>AgamP4_2L</td>\n",
              "      <td>488303</td>\n",
              "      <td>G</td>\n",
              "      <td>A</td>\n",
              "      <td>missense_variant</td>\n",
              "      <td>MODERATE</td>\n",
              "      <td>AGAP004683</td>\n",
              "      <td>67C&gt;T</td>\n",
              "      <td>...</td>\n",
              "      <td>snp</td>\n",
              "      <td>AGAP004683</td>\n",
              "      <td>NaN</td>\n",
              "      <td>AGAP004683</td>\n",
              "      <td>-0.613243</td>\n",
              "      <td>4.309897e-08</td>\n",
              "      <td>probable serine threonine- kinase clkA</td>\n",
              "      <td>BD01</td>\n",
              "      <td>Bassila</td>\n",
              "      <td>Deltamethrin</td>\n",
              "    </tr>\n",
              "    <tr>\n",
              "      <th>7</th>\n",
              "      <td>17</td>\n",
              "      <td>17</td>\n",
              "      <td>AgamP4_2L</td>\n",
              "      <td>493166</td>\n",
              "      <td>T</td>\n",
              "      <td>C</td>\n",
              "      <td>missense_variant</td>\n",
              "      <td>MODERATE</td>\n",
              "      <td>AGAP004684</td>\n",
              "      <td>128T&gt;C</td>\n",
              "      <td>...</td>\n",
              "      <td>snp</td>\n",
              "      <td>AGAP004684</td>\n",
              "      <td>NaN</td>\n",
              "      <td>AGAP004684</td>\n",
              "      <td>-0.928101</td>\n",
              "      <td>2.813908e-11</td>\n",
              "      <td>coiled-coil domain-containing 86</td>\n",
              "      <td>BD01</td>\n",
              "      <td>Bassila</td>\n",
              "      <td>Deltamethrin</td>\n",
              "    </tr>\n",
              "    <tr>\n",
              "      <th>8</th>\n",
              "      <td>18</td>\n",
              "      <td>18</td>\n",
              "      <td>AgamP4_2L</td>\n",
              "      <td>493454</td>\n",
              "      <td>A</td>\n",
              "      <td>G</td>\n",
              "      <td>missense_variant</td>\n",
              "      <td>MODERATE</td>\n",
              "      <td>AGAP004684</td>\n",
              "      <td>352A&gt;G</td>\n",
              "      <td>...</td>\n",
              "      <td>snp</td>\n",
              "      <td>AGAP004684</td>\n",
              "      <td>NaN</td>\n",
              "      <td>AGAP004684</td>\n",
              "      <td>-0.928101</td>\n",
              "      <td>2.813908e-11</td>\n",
              "      <td>coiled-coil domain-containing 86</td>\n",
              "      <td>BD01</td>\n",
              "      <td>Bassila</td>\n",
              "      <td>Deltamethrin</td>\n",
              "    </tr>\n",
              "    <tr>\n",
              "      <th>9</th>\n",
              "      <td>19</td>\n",
              "      <td>19</td>\n",
              "      <td>AgamP4_2L</td>\n",
              "      <td>493512</td>\n",
              "      <td>G</td>\n",
              "      <td>A</td>\n",
              "      <td>missense_variant</td>\n",
              "      <td>MODERATE</td>\n",
              "      <td>AGAP004684</td>\n",
              "      <td>410G&gt;A</td>\n",
              "      <td>...</td>\n",
              "      <td>snp</td>\n",
              "      <td>AGAP004684</td>\n",
              "      <td>NaN</td>\n",
              "      <td>AGAP004684</td>\n",
              "      <td>-0.928101</td>\n",
              "      <td>2.813908e-11</td>\n",
              "      <td>coiled-coil domain-containing 86</td>\n",
              "      <td>BD01</td>\n",
              "      <td>Bassila</td>\n",
              "      <td>Deltamethrin</td>\n",
              "    </tr>\n",
              "  </tbody>\n",
              "</table>\n",
              "<p>10 rows × 24 columns</p>\n",
              "</div>\n",
              "    <div class=\"colab-df-buttons\">\n",
              "\n",
              "  <div class=\"colab-df-container\">\n",
              "    <button class=\"colab-df-convert\" onclick=\"convertToInteractive('df-97a50e02-7e62-466b-bc12-e1ee99b6eb2c')\"\n",
              "            title=\"Convert this dataframe to an interactive table.\"\n",
              "            style=\"display:none;\">\n",
              "\n",
              "  <svg xmlns=\"http://www.w3.org/2000/svg\" height=\"24px\" viewBox=\"0 -960 960 960\">\n",
              "    <path d=\"M120-120v-720h720v720H120Zm60-500h600v-160H180v160Zm220 220h160v-160H400v160Zm0 220h160v-160H400v160ZM180-400h160v-160H180v160Zm440 0h160v-160H620v160ZM180-180h160v-160H180v160Zm440 0h160v-160H620v160Z\"/>\n",
              "  </svg>\n",
              "    </button>\n",
              "\n",
              "  <style>\n",
              "    .colab-df-container {\n",
              "      display:flex;\n",
              "      gap: 12px;\n",
              "    }\n",
              "\n",
              "    .colab-df-convert {\n",
              "      background-color: #E8F0FE;\n",
              "      border: none;\n",
              "      border-radius: 50%;\n",
              "      cursor: pointer;\n",
              "      display: none;\n",
              "      fill: #1967D2;\n",
              "      height: 32px;\n",
              "      padding: 0 0 0 0;\n",
              "      width: 32px;\n",
              "    }\n",
              "\n",
              "    .colab-df-convert:hover {\n",
              "      background-color: #E2EBFA;\n",
              "      box-shadow: 0px 1px 2px rgba(60, 64, 67, 0.3), 0px 1px 3px 1px rgba(60, 64, 67, 0.15);\n",
              "      fill: #174EA6;\n",
              "    }\n",
              "\n",
              "    .colab-df-buttons div {\n",
              "      margin-bottom: 4px;\n",
              "    }\n",
              "\n",
              "    [theme=dark] .colab-df-convert {\n",
              "      background-color: #3B4455;\n",
              "      fill: #D2E3FC;\n",
              "    }\n",
              "\n",
              "    [theme=dark] .colab-df-convert:hover {\n",
              "      background-color: #434B5C;\n",
              "      box-shadow: 0px 1px 3px 1px rgba(0, 0, 0, 0.15);\n",
              "      filter: drop-shadow(0px 1px 2px rgba(0, 0, 0, 0.3));\n",
              "      fill: #FFFFFF;\n",
              "    }\n",
              "  </style>\n",
              "\n",
              "    <script>\n",
              "      const buttonEl =\n",
              "        document.querySelector('#df-97a50e02-7e62-466b-bc12-e1ee99b6eb2c button.colab-df-convert');\n",
              "      buttonEl.style.display =\n",
              "        google.colab.kernel.accessAllowed ? 'block' : 'none';\n",
              "\n",
              "      async function convertToInteractive(key) {\n",
              "        const element = document.querySelector('#df-97a50e02-7e62-466b-bc12-e1ee99b6eb2c');\n",
              "        const dataTable =\n",
              "          await google.colab.kernel.invokeFunction('convertToInteractive',\n",
              "                                                    [key], {});\n",
              "        if (!dataTable) return;\n",
              "\n",
              "        const docLinkHtml = 'Like what you see? Visit the ' +\n",
              "          '<a target=\"_blank\" href=https://colab.research.google.com/notebooks/data_table.ipynb>data table notebook</a>'\n",
              "          + ' to learn more about interactive tables.';\n",
              "        element.innerHTML = '';\n",
              "        dataTable['output_type'] = 'display_data';\n",
              "        await google.colab.output.renderOutput(dataTable, element);\n",
              "        const docLink = document.createElement('div');\n",
              "        docLink.innerHTML = docLinkHtml;\n",
              "        element.appendChild(docLink);\n",
              "      }\n",
              "    </script>\n",
              "  </div>\n",
              "\n",
              "\n",
              "<div id=\"df-503b581b-706e-404d-abea-de565a4bd927\">\n",
              "  <button class=\"colab-df-quickchart\" onclick=\"quickchart('df-503b581b-706e-404d-abea-de565a4bd927')\"\n",
              "            title=\"Suggest charts\"\n",
              "            style=\"display:none;\">\n",
              "\n",
              "<svg xmlns=\"http://www.w3.org/2000/svg\" height=\"24px\"viewBox=\"0 0 24 24\"\n",
              "     width=\"24px\">\n",
              "    <g>\n",
              "        <path d=\"M19 3H5c-1.1 0-2 .9-2 2v14c0 1.1.9 2 2 2h14c1.1 0 2-.9 2-2V5c0-1.1-.9-2-2-2zM9 17H7v-7h2v7zm4 0h-2V7h2v10zm4 0h-2v-4h2v4z\"/>\n",
              "    </g>\n",
              "</svg>\n",
              "  </button>\n",
              "\n",
              "<style>\n",
              "  .colab-df-quickchart {\n",
              "      --bg-color: #E8F0FE;\n",
              "      --fill-color: #1967D2;\n",
              "      --hover-bg-color: #E2EBFA;\n",
              "      --hover-fill-color: #174EA6;\n",
              "      --disabled-fill-color: #AAA;\n",
              "      --disabled-bg-color: #DDD;\n",
              "  }\n",
              "\n",
              "  [theme=dark] .colab-df-quickchart {\n",
              "      --bg-color: #3B4455;\n",
              "      --fill-color: #D2E3FC;\n",
              "      --hover-bg-color: #434B5C;\n",
              "      --hover-fill-color: #FFFFFF;\n",
              "      --disabled-bg-color: #3B4455;\n",
              "      --disabled-fill-color: #666;\n",
              "  }\n",
              "\n",
              "  .colab-df-quickchart {\n",
              "    background-color: var(--bg-color);\n",
              "    border: none;\n",
              "    border-radius: 50%;\n",
              "    cursor: pointer;\n",
              "    display: none;\n",
              "    fill: var(--fill-color);\n",
              "    height: 32px;\n",
              "    padding: 0;\n",
              "    width: 32px;\n",
              "  }\n",
              "\n",
              "  .colab-df-quickchart:hover {\n",
              "    background-color: var(--hover-bg-color);\n",
              "    box-shadow: 0 1px 2px rgba(60, 64, 67, 0.3), 0 1px 3px 1px rgba(60, 64, 67, 0.15);\n",
              "    fill: var(--button-hover-fill-color);\n",
              "  }\n",
              "\n",
              "  .colab-df-quickchart-complete:disabled,\n",
              "  .colab-df-quickchart-complete:disabled:hover {\n",
              "    background-color: var(--disabled-bg-color);\n",
              "    fill: var(--disabled-fill-color);\n",
              "    box-shadow: none;\n",
              "  }\n",
              "\n",
              "  .colab-df-spinner {\n",
              "    border: 2px solid var(--fill-color);\n",
              "    border-color: transparent;\n",
              "    border-bottom-color: var(--fill-color);\n",
              "    animation:\n",
              "      spin 1s steps(1) infinite;\n",
              "  }\n",
              "\n",
              "  @keyframes spin {\n",
              "    0% {\n",
              "      border-color: transparent;\n",
              "      border-bottom-color: var(--fill-color);\n",
              "      border-left-color: var(--fill-color);\n",
              "    }\n",
              "    20% {\n",
              "      border-color: transparent;\n",
              "      border-left-color: var(--fill-color);\n",
              "      border-top-color: var(--fill-color);\n",
              "    }\n",
              "    30% {\n",
              "      border-color: transparent;\n",
              "      border-left-color: var(--fill-color);\n",
              "      border-top-color: var(--fill-color);\n",
              "      border-right-color: var(--fill-color);\n",
              "    }\n",
              "    40% {\n",
              "      border-color: transparent;\n",
              "      border-right-color: var(--fill-color);\n",
              "      border-top-color: var(--fill-color);\n",
              "    }\n",
              "    60% {\n",
              "      border-color: transparent;\n",
              "      border-right-color: var(--fill-color);\n",
              "    }\n",
              "    80% {\n",
              "      border-color: transparent;\n",
              "      border-right-color: var(--fill-color);\n",
              "      border-bottom-color: var(--fill-color);\n",
              "    }\n",
              "    90% {\n",
              "      border-color: transparent;\n",
              "      border-bottom-color: var(--fill-color);\n",
              "    }\n",
              "  }\n",
              "</style>\n",
              "\n",
              "  <script>\n",
              "    async function quickchart(key) {\n",
              "      const quickchartButtonEl =\n",
              "        document.querySelector('#' + key + ' button');\n",
              "      quickchartButtonEl.disabled = true;  // To prevent multiple clicks.\n",
              "      quickchartButtonEl.classList.add('colab-df-spinner');\n",
              "      try {\n",
              "        const charts = await google.colab.kernel.invokeFunction(\n",
              "            'suggestCharts', [key], {});\n",
              "      } catch (error) {\n",
              "        console.error('Error during call to suggestCharts:', error);\n",
              "      }\n",
              "      quickchartButtonEl.classList.remove('colab-df-spinner');\n",
              "      quickchartButtonEl.classList.add('colab-df-quickchart-complete');\n",
              "    }\n",
              "    (() => {\n",
              "      let quickchartButtonEl =\n",
              "        document.querySelector('#df-503b581b-706e-404d-abea-de565a4bd927 button');\n",
              "      quickchartButtonEl.style.display =\n",
              "        google.colab.kernel.accessAllowed ? 'block' : 'none';\n",
              "    })();\n",
              "  </script>\n",
              "</div>\n",
              "\n",
              "    </div>\n",
              "  </div>\n"
            ]
          },
          "metadata": {},
          "execution_count": 7
        }
      ]
    },
    {
      "cell_type": "code",
      "source": [
        "all_csv['Locality'] = ['Bassila' if x.startswith('B') else 'DJougou' for x in all_csv['Sample_ID']]"
      ],
      "metadata": {
        "id": "nwz5yUyy62KM"
      },
      "execution_count": null,
      "outputs": []
    },
    {
      "cell_type": "code",
      "source": [
        "all_csv['Insecticides'] = ['Deltamethrin' if list(x)[1]==('D') else 'Pirimiphosmethyl' for x in all_csv['Sample_ID']]"
      ],
      "metadata": {
        "id": "pI0NPmN78TyQ"
      },
      "execution_count": null,
      "outputs": []
    },
    {
      "cell_type": "code",
      "source": [
        "all_csv = all_csv[(all_csv['FDR'] < 0.05)]"
      ],
      "metadata": {
        "id": "4pXaAqTLCRvv"
      },
      "execution_count": null,
      "outputs": []
    },
    {
      "cell_type": "code",
      "source": [
        "all_csv.to_csv(\"all_csv.csv\")\n"
      ],
      "metadata": {
        "id": "9cqWXSVDVQUS"
      },
      "execution_count": null,
      "outputs": []
    },
    {
      "cell_type": "code",
      "source": [
        "all_csv"
      ],
      "metadata": {
        "colab": {
          "base_uri": "https://localhost:8080/",
          "height": 669
        },
        "id": "9ZodJKxF8JGz",
        "outputId": "145b8aa4-4ff0-46c0-af64-dd1da29e8465"
      },
      "execution_count": null,
      "outputs": [
        {
          "output_type": "execute_result",
          "data": {
            "text/plain": [
              "        Unnamed: 0.1  Unnamed: 0     genome     POS  REF  ALT  \\\n",
              "0                  4           4  AgamP4_2L  204387    A    G   \n",
              "1                  5           5  AgamP4_2L  204516  ATC  GTT   \n",
              "2                  6           6  AgamP4_2L  204529    C    A   \n",
              "3                  7           7  AgamP4_2L  204786    T    A   \n",
              "4                 12          12  AgamP4_2L  460919    C    A   \n",
              "...              ...         ...        ...     ...  ...  ...   \n",
              "716189       1269665     1269665  AgamP4_Mt    2422    C    A   \n",
              "716190       1269666     1269666  AgamP4_Mt    3045    C    T   \n",
              "716191       1269667     1269667  AgamP4_Mt    4867    G    A   \n",
              "716192       1269668     1269668  AgamP4_Mt    5165    G    A   \n",
              "716193       1269678     1269678  AgamP4_Mt   10889    G    A   \n",
              "\n",
              "                  effect    impact        gene             mut_cdna  ...  \\\n",
              "0       missense_variant  MODERATE  AGAP004678               466A>G  ...   \n",
              "1       missense_variant  MODERATE  AGAP004678  595_597delATCinsGTT  ...   \n",
              "2       missense_variant  MODERATE  AGAP004678               608C>A  ...   \n",
              "3       missense_variant  MODERATE  AGAP004678               865T>A  ...   \n",
              "4       missense_variant  MODERATE  AGAP004682               164G>T  ...   \n",
              "...                  ...       ...         ...                  ...  ...   \n",
              "716189  missense_variant  MODERATE  AGAP028364               999C>A  ...   \n",
              "716190  missense_variant  MODERATE  AGAP028366                14C>T  ...   \n",
              "716191  missense_variant  MODERATE  AGAP028371               165G>A  ...   \n",
              "716192  missense_variant  MODERATE  AGAP028371               463G>A  ...   \n",
              "716193  missense_variant  MODERATE  AGAP028387               477G>A  ...   \n",
              "\n",
              "       mut_type     Gene ID Gene Name or Symbol        Gene     logFC  \\\n",
              "0           snp  AGAP004678                 NaN  AGAP004678 -1.406740   \n",
              "1       complex  AGAP004678                 NaN  AGAP004678 -1.406740   \n",
              "2           snp  AGAP004678                 NaN  AGAP004678 -1.406740   \n",
              "3           snp  AGAP004678                 NaN  AGAP004678 -1.406740   \n",
              "4           snp  AGAP004682                 NaN  AGAP004682 -0.504557   \n",
              "...         ...         ...                 ...         ...       ...   \n",
              "716189      snp  AGAP028364                COX1  AGAP028364  1.706603   \n",
              "716190      snp  AGAP028366                COX2  AGAP028366  1.707542   \n",
              "716191      snp  AGAP028371                COX3  AGAP028371  1.676457   \n",
              "716192      snp  AGAP028371                COX3  AGAP028371  1.676457   \n",
              "716193      snp  AGAP028387                CYTB  AGAP028387  1.245032   \n",
              "\n",
              "                 FDR                  Description_Blast2GO Sample_ID  \\\n",
              "0       4.063143e-28                      box C D snoRNA 1      BD01   \n",
              "1       4.063143e-28                      box C D snoRNA 1      BD01   \n",
              "2       4.063143e-28                      box C D snoRNA 1      BD01   \n",
              "3       4.063143e-28                      box C D snoRNA 1      BD01   \n",
              "4       1.729548e-06   U4 U6 small nuclear ribonucleo Prp3      BD01   \n",
              "...              ...                                   ...       ...   \n",
              "716189  3.694306e-06  cytochrome c oxidase subunit partial      DP03   \n",
              "716190  2.598236e-10       cytochrome c oxidase subunit II      DP03   \n",
              "716191  4.734042e-06      cytochrome c oxidase subunit III      DP03   \n",
              "716192  4.734042e-06      cytochrome c oxidase subunit III      DP03   \n",
              "716193  1.057685e-02                          cytochrome b      DP03   \n",
              "\n",
              "        Locality      Insecticides  \n",
              "0        Bassila      Deltamethrin  \n",
              "1        Bassila      Deltamethrin  \n",
              "2        Bassila      Deltamethrin  \n",
              "3        Bassila      Deltamethrin  \n",
              "4        Bassila      Deltamethrin  \n",
              "...          ...               ...  \n",
              "716189   DJougou  Pirimiphosmethyl  \n",
              "716190   DJougou  Pirimiphosmethyl  \n",
              "716191   DJougou  Pirimiphosmethyl  \n",
              "716192   DJougou  Pirimiphosmethyl  \n",
              "716193   DJougou  Pirimiphosmethyl  \n",
              "\n",
              "[716194 rows x 24 columns]"
            ],
            "text/html": [
              "\n",
              "  <div id=\"df-eb8edd0e-6e0a-4c01-8d60-867ca5cb1f64\" class=\"colab-df-container\">\n",
              "    <div>\n",
              "<style scoped>\n",
              "    .dataframe tbody tr th:only-of-type {\n",
              "        vertical-align: middle;\n",
              "    }\n",
              "\n",
              "    .dataframe tbody tr th {\n",
              "        vertical-align: top;\n",
              "    }\n",
              "\n",
              "    .dataframe thead th {\n",
              "        text-align: right;\n",
              "    }\n",
              "</style>\n",
              "<table border=\"1\" class=\"dataframe\">\n",
              "  <thead>\n",
              "    <tr style=\"text-align: right;\">\n",
              "      <th></th>\n",
              "      <th>Unnamed: 0.1</th>\n",
              "      <th>Unnamed: 0</th>\n",
              "      <th>genome</th>\n",
              "      <th>POS</th>\n",
              "      <th>REF</th>\n",
              "      <th>ALT</th>\n",
              "      <th>effect</th>\n",
              "      <th>impact</th>\n",
              "      <th>gene</th>\n",
              "      <th>mut_cdna</th>\n",
              "      <th>...</th>\n",
              "      <th>mut_type</th>\n",
              "      <th>Gene ID</th>\n",
              "      <th>Gene Name or Symbol</th>\n",
              "      <th>Gene</th>\n",
              "      <th>logFC</th>\n",
              "      <th>FDR</th>\n",
              "      <th>Description_Blast2GO</th>\n",
              "      <th>Sample_ID</th>\n",
              "      <th>Locality</th>\n",
              "      <th>Insecticides</th>\n",
              "    </tr>\n",
              "  </thead>\n",
              "  <tbody>\n",
              "    <tr>\n",
              "      <th>0</th>\n",
              "      <td>4</td>\n",
              "      <td>4</td>\n",
              "      <td>AgamP4_2L</td>\n",
              "      <td>204387</td>\n",
              "      <td>A</td>\n",
              "      <td>G</td>\n",
              "      <td>missense_variant</td>\n",
              "      <td>MODERATE</td>\n",
              "      <td>AGAP004678</td>\n",
              "      <td>466A&gt;G</td>\n",
              "      <td>...</td>\n",
              "      <td>snp</td>\n",
              "      <td>AGAP004678</td>\n",
              "      <td>NaN</td>\n",
              "      <td>AGAP004678</td>\n",
              "      <td>-1.406740</td>\n",
              "      <td>4.063143e-28</td>\n",
              "      <td>box C D snoRNA 1</td>\n",
              "      <td>BD01</td>\n",
              "      <td>Bassila</td>\n",
              "      <td>Deltamethrin</td>\n",
              "    </tr>\n",
              "    <tr>\n",
              "      <th>1</th>\n",
              "      <td>5</td>\n",
              "      <td>5</td>\n",
              "      <td>AgamP4_2L</td>\n",
              "      <td>204516</td>\n",
              "      <td>ATC</td>\n",
              "      <td>GTT</td>\n",
              "      <td>missense_variant</td>\n",
              "      <td>MODERATE</td>\n",
              "      <td>AGAP004678</td>\n",
              "      <td>595_597delATCinsGTT</td>\n",
              "      <td>...</td>\n",
              "      <td>complex</td>\n",
              "      <td>AGAP004678</td>\n",
              "      <td>NaN</td>\n",
              "      <td>AGAP004678</td>\n",
              "      <td>-1.406740</td>\n",
              "      <td>4.063143e-28</td>\n",
              "      <td>box C D snoRNA 1</td>\n",
              "      <td>BD01</td>\n",
              "      <td>Bassila</td>\n",
              "      <td>Deltamethrin</td>\n",
              "    </tr>\n",
              "    <tr>\n",
              "      <th>2</th>\n",
              "      <td>6</td>\n",
              "      <td>6</td>\n",
              "      <td>AgamP4_2L</td>\n",
              "      <td>204529</td>\n",
              "      <td>C</td>\n",
              "      <td>A</td>\n",
              "      <td>missense_variant</td>\n",
              "      <td>MODERATE</td>\n",
              "      <td>AGAP004678</td>\n",
              "      <td>608C&gt;A</td>\n",
              "      <td>...</td>\n",
              "      <td>snp</td>\n",
              "      <td>AGAP004678</td>\n",
              "      <td>NaN</td>\n",
              "      <td>AGAP004678</td>\n",
              "      <td>-1.406740</td>\n",
              "      <td>4.063143e-28</td>\n",
              "      <td>box C D snoRNA 1</td>\n",
              "      <td>BD01</td>\n",
              "      <td>Bassila</td>\n",
              "      <td>Deltamethrin</td>\n",
              "    </tr>\n",
              "    <tr>\n",
              "      <th>3</th>\n",
              "      <td>7</td>\n",
              "      <td>7</td>\n",
              "      <td>AgamP4_2L</td>\n",
              "      <td>204786</td>\n",
              "      <td>T</td>\n",
              "      <td>A</td>\n",
              "      <td>missense_variant</td>\n",
              "      <td>MODERATE</td>\n",
              "      <td>AGAP004678</td>\n",
              "      <td>865T&gt;A</td>\n",
              "      <td>...</td>\n",
              "      <td>snp</td>\n",
              "      <td>AGAP004678</td>\n",
              "      <td>NaN</td>\n",
              "      <td>AGAP004678</td>\n",
              "      <td>-1.406740</td>\n",
              "      <td>4.063143e-28</td>\n",
              "      <td>box C D snoRNA 1</td>\n",
              "      <td>BD01</td>\n",
              "      <td>Bassila</td>\n",
              "      <td>Deltamethrin</td>\n",
              "    </tr>\n",
              "    <tr>\n",
              "      <th>4</th>\n",
              "      <td>12</td>\n",
              "      <td>12</td>\n",
              "      <td>AgamP4_2L</td>\n",
              "      <td>460919</td>\n",
              "      <td>C</td>\n",
              "      <td>A</td>\n",
              "      <td>missense_variant</td>\n",
              "      <td>MODERATE</td>\n",
              "      <td>AGAP004682</td>\n",
              "      <td>164G&gt;T</td>\n",
              "      <td>...</td>\n",
              "      <td>snp</td>\n",
              "      <td>AGAP004682</td>\n",
              "      <td>NaN</td>\n",
              "      <td>AGAP004682</td>\n",
              "      <td>-0.504557</td>\n",
              "      <td>1.729548e-06</td>\n",
              "      <td>U4 U6 small nuclear ribonucleo Prp3</td>\n",
              "      <td>BD01</td>\n",
              "      <td>Bassila</td>\n",
              "      <td>Deltamethrin</td>\n",
              "    </tr>\n",
              "    <tr>\n",
              "      <th>...</th>\n",
              "      <td>...</td>\n",
              "      <td>...</td>\n",
              "      <td>...</td>\n",
              "      <td>...</td>\n",
              "      <td>...</td>\n",
              "      <td>...</td>\n",
              "      <td>...</td>\n",
              "      <td>...</td>\n",
              "      <td>...</td>\n",
              "      <td>...</td>\n",
              "      <td>...</td>\n",
              "      <td>...</td>\n",
              "      <td>...</td>\n",
              "      <td>...</td>\n",
              "      <td>...</td>\n",
              "      <td>...</td>\n",
              "      <td>...</td>\n",
              "      <td>...</td>\n",
              "      <td>...</td>\n",
              "      <td>...</td>\n",
              "      <td>...</td>\n",
              "    </tr>\n",
              "    <tr>\n",
              "      <th>716189</th>\n",
              "      <td>1269665</td>\n",
              "      <td>1269665</td>\n",
              "      <td>AgamP4_Mt</td>\n",
              "      <td>2422</td>\n",
              "      <td>C</td>\n",
              "      <td>A</td>\n",
              "      <td>missense_variant</td>\n",
              "      <td>MODERATE</td>\n",
              "      <td>AGAP028364</td>\n",
              "      <td>999C&gt;A</td>\n",
              "      <td>...</td>\n",
              "      <td>snp</td>\n",
              "      <td>AGAP028364</td>\n",
              "      <td>COX1</td>\n",
              "      <td>AGAP028364</td>\n",
              "      <td>1.706603</td>\n",
              "      <td>3.694306e-06</td>\n",
              "      <td>cytochrome c oxidase subunit partial</td>\n",
              "      <td>DP03</td>\n",
              "      <td>DJougou</td>\n",
              "      <td>Pirimiphosmethyl</td>\n",
              "    </tr>\n",
              "    <tr>\n",
              "      <th>716190</th>\n",
              "      <td>1269666</td>\n",
              "      <td>1269666</td>\n",
              "      <td>AgamP4_Mt</td>\n",
              "      <td>3045</td>\n",
              "      <td>C</td>\n",
              "      <td>T</td>\n",
              "      <td>missense_variant</td>\n",
              "      <td>MODERATE</td>\n",
              "      <td>AGAP028366</td>\n",
              "      <td>14C&gt;T</td>\n",
              "      <td>...</td>\n",
              "      <td>snp</td>\n",
              "      <td>AGAP028366</td>\n",
              "      <td>COX2</td>\n",
              "      <td>AGAP028366</td>\n",
              "      <td>1.707542</td>\n",
              "      <td>2.598236e-10</td>\n",
              "      <td>cytochrome c oxidase subunit II</td>\n",
              "      <td>DP03</td>\n",
              "      <td>DJougou</td>\n",
              "      <td>Pirimiphosmethyl</td>\n",
              "    </tr>\n",
              "    <tr>\n",
              "      <th>716191</th>\n",
              "      <td>1269667</td>\n",
              "      <td>1269667</td>\n",
              "      <td>AgamP4_Mt</td>\n",
              "      <td>4867</td>\n",
              "      <td>G</td>\n",
              "      <td>A</td>\n",
              "      <td>missense_variant</td>\n",
              "      <td>MODERATE</td>\n",
              "      <td>AGAP028371</td>\n",
              "      <td>165G&gt;A</td>\n",
              "      <td>...</td>\n",
              "      <td>snp</td>\n",
              "      <td>AGAP028371</td>\n",
              "      <td>COX3</td>\n",
              "      <td>AGAP028371</td>\n",
              "      <td>1.676457</td>\n",
              "      <td>4.734042e-06</td>\n",
              "      <td>cytochrome c oxidase subunit III</td>\n",
              "      <td>DP03</td>\n",
              "      <td>DJougou</td>\n",
              "      <td>Pirimiphosmethyl</td>\n",
              "    </tr>\n",
              "    <tr>\n",
              "      <th>716192</th>\n",
              "      <td>1269668</td>\n",
              "      <td>1269668</td>\n",
              "      <td>AgamP4_Mt</td>\n",
              "      <td>5165</td>\n",
              "      <td>G</td>\n",
              "      <td>A</td>\n",
              "      <td>missense_variant</td>\n",
              "      <td>MODERATE</td>\n",
              "      <td>AGAP028371</td>\n",
              "      <td>463G&gt;A</td>\n",
              "      <td>...</td>\n",
              "      <td>snp</td>\n",
              "      <td>AGAP028371</td>\n",
              "      <td>COX3</td>\n",
              "      <td>AGAP028371</td>\n",
              "      <td>1.676457</td>\n",
              "      <td>4.734042e-06</td>\n",
              "      <td>cytochrome c oxidase subunit III</td>\n",
              "      <td>DP03</td>\n",
              "      <td>DJougou</td>\n",
              "      <td>Pirimiphosmethyl</td>\n",
              "    </tr>\n",
              "    <tr>\n",
              "      <th>716193</th>\n",
              "      <td>1269678</td>\n",
              "      <td>1269678</td>\n",
              "      <td>AgamP4_Mt</td>\n",
              "      <td>10889</td>\n",
              "      <td>G</td>\n",
              "      <td>A</td>\n",
              "      <td>missense_variant</td>\n",
              "      <td>MODERATE</td>\n",
              "      <td>AGAP028387</td>\n",
              "      <td>477G&gt;A</td>\n",
              "      <td>...</td>\n",
              "      <td>snp</td>\n",
              "      <td>AGAP028387</td>\n",
              "      <td>CYTB</td>\n",
              "      <td>AGAP028387</td>\n",
              "      <td>1.245032</td>\n",
              "      <td>1.057685e-02</td>\n",
              "      <td>cytochrome b</td>\n",
              "      <td>DP03</td>\n",
              "      <td>DJougou</td>\n",
              "      <td>Pirimiphosmethyl</td>\n",
              "    </tr>\n",
              "  </tbody>\n",
              "</table>\n",
              "<p>716194 rows × 24 columns</p>\n",
              "</div>\n",
              "    <div class=\"colab-df-buttons\">\n",
              "\n",
              "  <div class=\"colab-df-container\">\n",
              "    <button class=\"colab-df-convert\" onclick=\"convertToInteractive('df-eb8edd0e-6e0a-4c01-8d60-867ca5cb1f64')\"\n",
              "            title=\"Convert this dataframe to an interactive table.\"\n",
              "            style=\"display:none;\">\n",
              "\n",
              "  <svg xmlns=\"http://www.w3.org/2000/svg\" height=\"24px\" viewBox=\"0 -960 960 960\">\n",
              "    <path d=\"M120-120v-720h720v720H120Zm60-500h600v-160H180v160Zm220 220h160v-160H400v160Zm0 220h160v-160H400v160ZM180-400h160v-160H180v160Zm440 0h160v-160H620v160ZM180-180h160v-160H180v160Zm440 0h160v-160H620v160Z\"/>\n",
              "  </svg>\n",
              "    </button>\n",
              "\n",
              "  <style>\n",
              "    .colab-df-container {\n",
              "      display:flex;\n",
              "      gap: 12px;\n",
              "    }\n",
              "\n",
              "    .colab-df-convert {\n",
              "      background-color: #E8F0FE;\n",
              "      border: none;\n",
              "      border-radius: 50%;\n",
              "      cursor: pointer;\n",
              "      display: none;\n",
              "      fill: #1967D2;\n",
              "      height: 32px;\n",
              "      padding: 0 0 0 0;\n",
              "      width: 32px;\n",
              "    }\n",
              "\n",
              "    .colab-df-convert:hover {\n",
              "      background-color: #E2EBFA;\n",
              "      box-shadow: 0px 1px 2px rgba(60, 64, 67, 0.3), 0px 1px 3px 1px rgba(60, 64, 67, 0.15);\n",
              "      fill: #174EA6;\n",
              "    }\n",
              "\n",
              "    .colab-df-buttons div {\n",
              "      margin-bottom: 4px;\n",
              "    }\n",
              "\n",
              "    [theme=dark] .colab-df-convert {\n",
              "      background-color: #3B4455;\n",
              "      fill: #D2E3FC;\n",
              "    }\n",
              "\n",
              "    [theme=dark] .colab-df-convert:hover {\n",
              "      background-color: #434B5C;\n",
              "      box-shadow: 0px 1px 3px 1px rgba(0, 0, 0, 0.15);\n",
              "      filter: drop-shadow(0px 1px 2px rgba(0, 0, 0, 0.3));\n",
              "      fill: #FFFFFF;\n",
              "    }\n",
              "  </style>\n",
              "\n",
              "    <script>\n",
              "      const buttonEl =\n",
              "        document.querySelector('#df-eb8edd0e-6e0a-4c01-8d60-867ca5cb1f64 button.colab-df-convert');\n",
              "      buttonEl.style.display =\n",
              "        google.colab.kernel.accessAllowed ? 'block' : 'none';\n",
              "\n",
              "      async function convertToInteractive(key) {\n",
              "        const element = document.querySelector('#df-eb8edd0e-6e0a-4c01-8d60-867ca5cb1f64');\n",
              "        const dataTable =\n",
              "          await google.colab.kernel.invokeFunction('convertToInteractive',\n",
              "                                                    [key], {});\n",
              "        if (!dataTable) return;\n",
              "\n",
              "        const docLinkHtml = 'Like what you see? Visit the ' +\n",
              "          '<a target=\"_blank\" href=https://colab.research.google.com/notebooks/data_table.ipynb>data table notebook</a>'\n",
              "          + ' to learn more about interactive tables.';\n",
              "        element.innerHTML = '';\n",
              "        dataTable['output_type'] = 'display_data';\n",
              "        await google.colab.output.renderOutput(dataTable, element);\n",
              "        const docLink = document.createElement('div');\n",
              "        docLink.innerHTML = docLinkHtml;\n",
              "        element.appendChild(docLink);\n",
              "      }\n",
              "    </script>\n",
              "  </div>\n",
              "\n",
              "\n",
              "<div id=\"df-31773337-3974-4a00-8220-f9539c4a5f8d\">\n",
              "  <button class=\"colab-df-quickchart\" onclick=\"quickchart('df-31773337-3974-4a00-8220-f9539c4a5f8d')\"\n",
              "            title=\"Suggest charts\"\n",
              "            style=\"display:none;\">\n",
              "\n",
              "<svg xmlns=\"http://www.w3.org/2000/svg\" height=\"24px\"viewBox=\"0 0 24 24\"\n",
              "     width=\"24px\">\n",
              "    <g>\n",
              "        <path d=\"M19 3H5c-1.1 0-2 .9-2 2v14c0 1.1.9 2 2 2h14c1.1 0 2-.9 2-2V5c0-1.1-.9-2-2-2zM9 17H7v-7h2v7zm4 0h-2V7h2v10zm4 0h-2v-4h2v4z\"/>\n",
              "    </g>\n",
              "</svg>\n",
              "  </button>\n",
              "\n",
              "<style>\n",
              "  .colab-df-quickchart {\n",
              "      --bg-color: #E8F0FE;\n",
              "      --fill-color: #1967D2;\n",
              "      --hover-bg-color: #E2EBFA;\n",
              "      --hover-fill-color: #174EA6;\n",
              "      --disabled-fill-color: #AAA;\n",
              "      --disabled-bg-color: #DDD;\n",
              "  }\n",
              "\n",
              "  [theme=dark] .colab-df-quickchart {\n",
              "      --bg-color: #3B4455;\n",
              "      --fill-color: #D2E3FC;\n",
              "      --hover-bg-color: #434B5C;\n",
              "      --hover-fill-color: #FFFFFF;\n",
              "      --disabled-bg-color: #3B4455;\n",
              "      --disabled-fill-color: #666;\n",
              "  }\n",
              "\n",
              "  .colab-df-quickchart {\n",
              "    background-color: var(--bg-color);\n",
              "    border: none;\n",
              "    border-radius: 50%;\n",
              "    cursor: pointer;\n",
              "    display: none;\n",
              "    fill: var(--fill-color);\n",
              "    height: 32px;\n",
              "    padding: 0;\n",
              "    width: 32px;\n",
              "  }\n",
              "\n",
              "  .colab-df-quickchart:hover {\n",
              "    background-color: var(--hover-bg-color);\n",
              "    box-shadow: 0 1px 2px rgba(60, 64, 67, 0.3), 0 1px 3px 1px rgba(60, 64, 67, 0.15);\n",
              "    fill: var(--button-hover-fill-color);\n",
              "  }\n",
              "\n",
              "  .colab-df-quickchart-complete:disabled,\n",
              "  .colab-df-quickchart-complete:disabled:hover {\n",
              "    background-color: var(--disabled-bg-color);\n",
              "    fill: var(--disabled-fill-color);\n",
              "    box-shadow: none;\n",
              "  }\n",
              "\n",
              "  .colab-df-spinner {\n",
              "    border: 2px solid var(--fill-color);\n",
              "    border-color: transparent;\n",
              "    border-bottom-color: var(--fill-color);\n",
              "    animation:\n",
              "      spin 1s steps(1) infinite;\n",
              "  }\n",
              "\n",
              "  @keyframes spin {\n",
              "    0% {\n",
              "      border-color: transparent;\n",
              "      border-bottom-color: var(--fill-color);\n",
              "      border-left-color: var(--fill-color);\n",
              "    }\n",
              "    20% {\n",
              "      border-color: transparent;\n",
              "      border-left-color: var(--fill-color);\n",
              "      border-top-color: var(--fill-color);\n",
              "    }\n",
              "    30% {\n",
              "      border-color: transparent;\n",
              "      border-left-color: var(--fill-color);\n",
              "      border-top-color: var(--fill-color);\n",
              "      border-right-color: var(--fill-color);\n",
              "    }\n",
              "    40% {\n",
              "      border-color: transparent;\n",
              "      border-right-color: var(--fill-color);\n",
              "      border-top-color: var(--fill-color);\n",
              "    }\n",
              "    60% {\n",
              "      border-color: transparent;\n",
              "      border-right-color: var(--fill-color);\n",
              "    }\n",
              "    80% {\n",
              "      border-color: transparent;\n",
              "      border-right-color: var(--fill-color);\n",
              "      border-bottom-color: var(--fill-color);\n",
              "    }\n",
              "    90% {\n",
              "      border-color: transparent;\n",
              "      border-bottom-color: var(--fill-color);\n",
              "    }\n",
              "  }\n",
              "</style>\n",
              "\n",
              "  <script>\n",
              "    async function quickchart(key) {\n",
              "      const quickchartButtonEl =\n",
              "        document.querySelector('#' + key + ' button');\n",
              "      quickchartButtonEl.disabled = true;  // To prevent multiple clicks.\n",
              "      quickchartButtonEl.classList.add('colab-df-spinner');\n",
              "      try {\n",
              "        const charts = await google.colab.kernel.invokeFunction(\n",
              "            'suggestCharts', [key], {});\n",
              "      } catch (error) {\n",
              "        console.error('Error during call to suggestCharts:', error);\n",
              "      }\n",
              "      quickchartButtonEl.classList.remove('colab-df-spinner');\n",
              "      quickchartButtonEl.classList.add('colab-df-quickchart-complete');\n",
              "    }\n",
              "    (() => {\n",
              "      let quickchartButtonEl =\n",
              "        document.querySelector('#df-31773337-3974-4a00-8220-f9539c4a5f8d button');\n",
              "      quickchartButtonEl.style.display =\n",
              "        google.colab.kernel.accessAllowed ? 'block' : 'none';\n",
              "    })();\n",
              "  </script>\n",
              "</div>\n",
              "\n",
              "  <div id=\"id_5e422422-6f2f-4b49-a23b-ed0b48ce3153\">\n",
              "    <style>\n",
              "      .colab-df-generate {\n",
              "        background-color: #E8F0FE;\n",
              "        border: none;\n",
              "        border-radius: 50%;\n",
              "        cursor: pointer;\n",
              "        display: none;\n",
              "        fill: #1967D2;\n",
              "        height: 32px;\n",
              "        padding: 0 0 0 0;\n",
              "        width: 32px;\n",
              "      }\n",
              "\n",
              "      .colab-df-generate:hover {\n",
              "        background-color: #E2EBFA;\n",
              "        box-shadow: 0px 1px 2px rgba(60, 64, 67, 0.3), 0px 1px 3px 1px rgba(60, 64, 67, 0.15);\n",
              "        fill: #174EA6;\n",
              "      }\n",
              "\n",
              "      [theme=dark] .colab-df-generate {\n",
              "        background-color: #3B4455;\n",
              "        fill: #D2E3FC;\n",
              "      }\n",
              "\n",
              "      [theme=dark] .colab-df-generate:hover {\n",
              "        background-color: #434B5C;\n",
              "        box-shadow: 0px 1px 3px 1px rgba(0, 0, 0, 0.15);\n",
              "        filter: drop-shadow(0px 1px 2px rgba(0, 0, 0, 0.3));\n",
              "        fill: #FFFFFF;\n",
              "      }\n",
              "    </style>\n",
              "    <button class=\"colab-df-generate\" onclick=\"generateWithVariable('all_csv')\"\n",
              "            title=\"Generate code using this dataframe.\"\n",
              "            style=\"display:none;\">\n",
              "\n",
              "  <svg xmlns=\"http://www.w3.org/2000/svg\" height=\"24px\"viewBox=\"0 0 24 24\"\n",
              "       width=\"24px\">\n",
              "    <path d=\"M7,19H8.4L18.45,9,17,7.55,7,17.6ZM5,21V16.75L18.45,3.32a2,2,0,0,1,2.83,0l1.4,1.43a1.91,1.91,0,0,1,.58,1.4,1.91,1.91,0,0,1-.58,1.4L9.25,21ZM18.45,9,17,7.55Zm-12,3A5.31,5.31,0,0,0,4.9,8.1,5.31,5.31,0,0,0,1,6.5,5.31,5.31,0,0,0,4.9,4.9,5.31,5.31,0,0,0,6.5,1,5.31,5.31,0,0,0,8.1,4.9,5.31,5.31,0,0,0,12,6.5,5.46,5.46,0,0,0,6.5,12Z\"/>\n",
              "  </svg>\n",
              "    </button>\n",
              "    <script>\n",
              "      (() => {\n",
              "      const buttonEl =\n",
              "        document.querySelector('#id_5e422422-6f2f-4b49-a23b-ed0b48ce3153 button.colab-df-generate');\n",
              "      buttonEl.style.display =\n",
              "        google.colab.kernel.accessAllowed ? 'block' : 'none';\n",
              "\n",
              "      buttonEl.onclick = () => {\n",
              "        google.colab.notebook.generateWithVariable('all_csv');\n",
              "      }\n",
              "      })();\n",
              "    </script>\n",
              "  </div>\n",
              "\n",
              "    </div>\n",
              "  </div>\n"
            ]
          },
          "metadata": {},
          "execution_count": 8
        }
      ]
    },
    {
      "cell_type": "code",
      "source": [
        "# prompt: plot correlation between Pos and LogFC with plotly\n",
        "\n",
        "import plotly.express as px\n",
        "\n",
        "fig = px.scatter(all_csv, x=\"Pos\", y=\"logFC\", color=\"Insecticides\", trendline=\"ols\")\n",
        "fig.show()\n"
      ],
      "metadata": {
        "colab": {
          "base_uri": "https://localhost:8080/",
          "height": 408
        },
        "id": "_uIGhY2EYfCk",
        "outputId": "451502de-c4cd-49a7-9f8c-43224d27b91e"
      },
      "execution_count": null,
      "outputs": [
        {
          "output_type": "error",
          "ename": "ValueError",
          "evalue": "Value of 'x' is not the name of a column in 'data_frame'. Expected one of ['Unnamed: 0.1', 'Unnamed: 0', 'genome', 'POS', 'REF', 'ALT', 'effect', 'impact', 'gene', 'mut_cdna', 'mut_aa', 'pos_cdna', 'pos_aa', 'in_gene', 'mut_type', 'Gene ID', 'Gene Name or Symbol', 'Gene', 'logFC', 'FDR', 'Description_Blast2GO', 'Sample_ID', 'Locality', 'Insecticides'] but received: Pos",
          "traceback": [
            "\u001b[0;31m---------------------------------------------------------------------------\u001b[0m",
            "\u001b[0;31mValueError\u001b[0m                                Traceback (most recent call last)",
            "\u001b[0;32m<ipython-input-10-d1cfc03085b5>\u001b[0m in \u001b[0;36m<cell line: 5>\u001b[0;34m()\u001b[0m\n\u001b[1;32m      3\u001b[0m \u001b[0;32mimport\u001b[0m \u001b[0mplotly\u001b[0m\u001b[0;34m.\u001b[0m\u001b[0mexpress\u001b[0m \u001b[0;32mas\u001b[0m \u001b[0mpx\u001b[0m\u001b[0;34m\u001b[0m\u001b[0;34m\u001b[0m\u001b[0m\n\u001b[1;32m      4\u001b[0m \u001b[0;34m\u001b[0m\u001b[0m\n\u001b[0;32m----> 5\u001b[0;31m \u001b[0mfig\u001b[0m \u001b[0;34m=\u001b[0m \u001b[0mpx\u001b[0m\u001b[0;34m.\u001b[0m\u001b[0mscatter\u001b[0m\u001b[0;34m(\u001b[0m\u001b[0mall_csv\u001b[0m\u001b[0;34m,\u001b[0m \u001b[0mx\u001b[0m\u001b[0;34m=\u001b[0m\u001b[0;34m\"Pos\"\u001b[0m\u001b[0;34m,\u001b[0m \u001b[0my\u001b[0m\u001b[0;34m=\u001b[0m\u001b[0;34m\"logFC\"\u001b[0m\u001b[0;34m,\u001b[0m \u001b[0mcolor\u001b[0m\u001b[0;34m=\u001b[0m\u001b[0;34m\"Insecticides\"\u001b[0m\u001b[0;34m,\u001b[0m \u001b[0mtrendline\u001b[0m\u001b[0;34m=\u001b[0m\u001b[0;34m\"ols\"\u001b[0m\u001b[0;34m)\u001b[0m\u001b[0;34m\u001b[0m\u001b[0;34m\u001b[0m\u001b[0m\n\u001b[0m\u001b[1;32m      6\u001b[0m \u001b[0mfig\u001b[0m\u001b[0;34m.\u001b[0m\u001b[0mshow\u001b[0m\u001b[0;34m(\u001b[0m\u001b[0;34m)\u001b[0m\u001b[0;34m\u001b[0m\u001b[0;34m\u001b[0m\u001b[0m\n",
            "\u001b[0;32m/usr/local/lib/python3.10/dist-packages/plotly/express/_chart_types.py\u001b[0m in \u001b[0;36mscatter\u001b[0;34m(data_frame, x, y, color, symbol, size, hover_name, hover_data, custom_data, text, facet_row, facet_col, facet_col_wrap, facet_row_spacing, facet_col_spacing, error_x, error_x_minus, error_y, error_y_minus, animation_frame, animation_group, category_orders, labels, orientation, color_discrete_sequence, color_discrete_map, color_continuous_scale, range_color, color_continuous_midpoint, symbol_sequence, symbol_map, opacity, size_max, marginal_x, marginal_y, trendline, trendline_options, trendline_color_override, trendline_scope, log_x, log_y, range_x, range_y, render_mode, title, template, width, height)\u001b[0m\n\u001b[1;32m     64\u001b[0m     \u001b[0mmark\u001b[0m \u001b[0;32min\u001b[0m \u001b[0;36m2\u001b[0m\u001b[0mD\u001b[0m \u001b[0mspace\u001b[0m\u001b[0;34m.\u001b[0m\u001b[0;34m\u001b[0m\u001b[0;34m\u001b[0m\u001b[0m\n\u001b[1;32m     65\u001b[0m     \"\"\"\n\u001b[0;32m---> 66\u001b[0;31m     \u001b[0;32mreturn\u001b[0m \u001b[0mmake_figure\u001b[0m\u001b[0;34m(\u001b[0m\u001b[0margs\u001b[0m\u001b[0;34m=\u001b[0m\u001b[0mlocals\u001b[0m\u001b[0;34m(\u001b[0m\u001b[0;34m)\u001b[0m\u001b[0;34m,\u001b[0m \u001b[0mconstructor\u001b[0m\u001b[0;34m=\u001b[0m\u001b[0mgo\u001b[0m\u001b[0;34m.\u001b[0m\u001b[0mScatter\u001b[0m\u001b[0;34m)\u001b[0m\u001b[0;34m\u001b[0m\u001b[0;34m\u001b[0m\u001b[0m\n\u001b[0m\u001b[1;32m     67\u001b[0m \u001b[0;34m\u001b[0m\u001b[0m\n\u001b[1;32m     68\u001b[0m \u001b[0;34m\u001b[0m\u001b[0m\n",
            "\u001b[0;32m/usr/local/lib/python3.10/dist-packages/plotly/express/_core.py\u001b[0m in \u001b[0;36mmake_figure\u001b[0;34m(args, constructor, trace_patch, layout_patch)\u001b[0m\n\u001b[1;32m   2001\u001b[0m     \u001b[0mapply_default_cascade\u001b[0m\u001b[0;34m(\u001b[0m\u001b[0margs\u001b[0m\u001b[0;34m)\u001b[0m\u001b[0;34m\u001b[0m\u001b[0;34m\u001b[0m\u001b[0m\n\u001b[1;32m   2002\u001b[0m \u001b[0;34m\u001b[0m\u001b[0m\n\u001b[0;32m-> 2003\u001b[0;31m     \u001b[0margs\u001b[0m \u001b[0;34m=\u001b[0m \u001b[0mbuild_dataframe\u001b[0m\u001b[0;34m(\u001b[0m\u001b[0margs\u001b[0m\u001b[0;34m,\u001b[0m \u001b[0mconstructor\u001b[0m\u001b[0;34m)\u001b[0m\u001b[0;34m\u001b[0m\u001b[0;34m\u001b[0m\u001b[0m\n\u001b[0m\u001b[1;32m   2004\u001b[0m     \u001b[0;32mif\u001b[0m \u001b[0mconstructor\u001b[0m \u001b[0;32min\u001b[0m \u001b[0;34m[\u001b[0m\u001b[0mgo\u001b[0m\u001b[0;34m.\u001b[0m\u001b[0mTreemap\u001b[0m\u001b[0;34m,\u001b[0m \u001b[0mgo\u001b[0m\u001b[0;34m.\u001b[0m\u001b[0mSunburst\u001b[0m\u001b[0;34m,\u001b[0m \u001b[0mgo\u001b[0m\u001b[0;34m.\u001b[0m\u001b[0mIcicle\u001b[0m\u001b[0;34m]\u001b[0m \u001b[0;32mand\u001b[0m \u001b[0margs\u001b[0m\u001b[0;34m[\u001b[0m\u001b[0;34m\"path\"\u001b[0m\u001b[0;34m]\u001b[0m \u001b[0;32mis\u001b[0m \u001b[0;32mnot\u001b[0m \u001b[0;32mNone\u001b[0m\u001b[0;34m:\u001b[0m\u001b[0;34m\u001b[0m\u001b[0;34m\u001b[0m\u001b[0m\n\u001b[1;32m   2005\u001b[0m         \u001b[0margs\u001b[0m \u001b[0;34m=\u001b[0m \u001b[0mprocess_dataframe_hierarchy\u001b[0m\u001b[0;34m(\u001b[0m\u001b[0margs\u001b[0m\u001b[0;34m)\u001b[0m\u001b[0;34m\u001b[0m\u001b[0;34m\u001b[0m\u001b[0m\n",
            "\u001b[0;32m/usr/local/lib/python3.10/dist-packages/plotly/express/_core.py\u001b[0m in \u001b[0;36mbuild_dataframe\u001b[0;34m(args, constructor)\u001b[0m\n\u001b[1;32m   1410\u001b[0m     \u001b[0;31m# now that things have been prepped, we do the systematic rewriting of `args`\u001b[0m\u001b[0;34m\u001b[0m\u001b[0;34m\u001b[0m\u001b[0m\n\u001b[1;32m   1411\u001b[0m \u001b[0;34m\u001b[0m\u001b[0m\n\u001b[0;32m-> 1412\u001b[0;31m     df_output, wide_id_vars = process_args_into_dataframe(\n\u001b[0m\u001b[1;32m   1413\u001b[0m         \u001b[0margs\u001b[0m\u001b[0;34m,\u001b[0m \u001b[0mwide_mode\u001b[0m\u001b[0;34m,\u001b[0m \u001b[0mvar_name\u001b[0m\u001b[0;34m,\u001b[0m \u001b[0mvalue_name\u001b[0m\u001b[0;34m\u001b[0m\u001b[0;34m\u001b[0m\u001b[0m\n\u001b[1;32m   1414\u001b[0m     )\n",
            "\u001b[0;32m/usr/local/lib/python3.10/dist-packages/plotly/express/_core.py\u001b[0m in \u001b[0;36mprocess_args_into_dataframe\u001b[0;34m(args, wide_mode, var_name, value_name)\u001b[0m\n\u001b[1;32m   1206\u001b[0m                         \u001b[0;32mif\u001b[0m \u001b[0margument\u001b[0m \u001b[0;34m==\u001b[0m \u001b[0;34m\"index\"\u001b[0m\u001b[0;34m:\u001b[0m\u001b[0;34m\u001b[0m\u001b[0;34m\u001b[0m\u001b[0m\n\u001b[1;32m   1207\u001b[0m                             \u001b[0merr_msg\u001b[0m \u001b[0;34m+=\u001b[0m \u001b[0;34m\"\\n To use the index, pass it in directly as `df.index`.\"\u001b[0m\u001b[0;34m\u001b[0m\u001b[0;34m\u001b[0m\u001b[0m\n\u001b[0;32m-> 1208\u001b[0;31m                         \u001b[0;32mraise\u001b[0m \u001b[0mValueError\u001b[0m\u001b[0;34m(\u001b[0m\u001b[0merr_msg\u001b[0m\u001b[0;34m)\u001b[0m\u001b[0;34m\u001b[0m\u001b[0;34m\u001b[0m\u001b[0m\n\u001b[0m\u001b[1;32m   1209\u001b[0m                 \u001b[0;32melif\u001b[0m \u001b[0mlength\u001b[0m \u001b[0;32mand\u001b[0m \u001b[0mlen\u001b[0m\u001b[0;34m(\u001b[0m\u001b[0mdf_input\u001b[0m\u001b[0;34m[\u001b[0m\u001b[0margument\u001b[0m\u001b[0;34m]\u001b[0m\u001b[0;34m)\u001b[0m \u001b[0;34m!=\u001b[0m \u001b[0mlength\u001b[0m\u001b[0;34m:\u001b[0m\u001b[0;34m\u001b[0m\u001b[0;34m\u001b[0m\u001b[0m\n\u001b[1;32m   1210\u001b[0m                     raise ValueError(\n",
            "\u001b[0;31mValueError\u001b[0m: Value of 'x' is not the name of a column in 'data_frame'. Expected one of ['Unnamed: 0.1', 'Unnamed: 0', 'genome', 'POS', 'REF', 'ALT', 'effect', 'impact', 'gene', 'mut_cdna', 'mut_aa', 'pos_cdna', 'pos_aa', 'in_gene', 'mut_type', 'Gene ID', 'Gene Name or Symbol', 'Gene', 'logFC', 'FDR', 'Description_Blast2GO', 'Sample_ID', 'Locality', 'Insecticides'] but received: Pos"
          ]
        }
      ]
    },
    {
      "cell_type": "code",
      "source": [
        "known_genes =['AGAP001356', 'AGAP004707', 'AGAP009194', 'AGAP002865', 'AGAP008212']\n",
        "all_csv_gene = all_csv[all_csv['gene'].isin(known_genes)]\n",
        "all_csv_gene.to_csv('all_csv_known_gene.csv')"
      ],
      "metadata": {
        "id": "i3PMP3p78qS-"
      },
      "execution_count": null,
      "outputs": []
    },
    {
      "cell_type": "code",
      "source": [
        "ace = ['AGAP001356']\n",
        "ace_gene = all_csv[all_csv['gene'].isin(ace)]\n",
        "ace_gene.to_csv('ace_gene.csv')"
      ],
      "metadata": {
        "id": "2Qjv-wuA-CdU"
      },
      "execution_count": null,
      "outputs": []
    },
    {
      "cell_type": "code",
      "source": [
        "ace_cyp = ['AGAP001356', 'AGAP002865']\n",
        "ace_cyp_gene = all_csv[all_csv['gene'].isin(ace_cyp)]\n",
        "ace_cyp_gene.to_csv('ace_cyp_gene.csv')"
      ],
      "metadata": {
        "id": "nUkorBqK-05h"
      },
      "execution_count": null,
      "outputs": []
    },
    {
      "cell_type": "markdown",
      "source": [],
      "metadata": {
        "id": "HVBgRk8qyorI"
      }
    },
    {
      "cell_type": "code",
      "source": [
        "from sklearn.linear_model import LinearRegression\n"
      ],
      "metadata": {
        "id": "Y31bzfjgM-xt"
      },
      "execution_count": null,
      "outputs": []
    },
    {
      "cell_type": "code",
      "source": [
        "import numpy as np\n",
        "from sklearn.cluster import KMeans\n",
        "from sklearn import preprocessing"
      ],
      "metadata": {
        "id": "Roo-_F8XOvb0"
      },
      "execution_count": null,
      "outputs": []
    },
    {
      "cell_type": "code",
      "source": [
        "\n",
        "#print(df.head())\n",
        "\n",
        "def handle_non_numerical_data(df):\n",
        "    columns = df.columns.values\n",
        "    for column in columns:\n",
        "        text_digit_vals = {}\n",
        "        def convert_to_int(val):\n",
        "            return text_digit_vals[val]\n",
        "\n",
        "        if df[column].dtype != np.int64 and df[column].dtype != np.float64:\n",
        "            column_contents = df[column].values.tolist()\n",
        "            unique_elements = set(column_contents)\n",
        "            x = 0\n",
        "            for unique in unique_elements:\n",
        "                if unique not in text_digit_vals:\n",
        "                    text_digit_vals[unique] = x\n",
        "                    x+=1\n",
        "\n",
        "            df[column] = list(map(convert_to_int, df[column]))\n",
        "\n",
        "    return df\n",
        "\n",
        "all = handle_non_numerical_data(all_csv_gene)\n",
        "print(all.head(5))"
      ],
      "metadata": {
        "colab": {
          "base_uri": "https://localhost:8080/"
        },
        "id": "djU41rHePKYn",
        "outputId": "50a20269-2f96-4000-e2c4-a2cb20ee28db"
      },
      "execution_count": null,
      "outputs": [
        {
          "output_type": "stream",
          "name": "stdout",
          "text": [
            "       Unnamed: 0  genome      POS  REF  ALT  effect  impact  gene  mut_cdna  \\\n",
            "24688       24688       0  3489316    4    6       0       0     2        23   \n",
            "24689       24689       0  3489316    4    6       0       0     2        23   \n",
            "24690       24690       0  3489405    8    4       0       0     2         5   \n",
            "24691       24691       0  3489405    8    4       0       0     2         5   \n",
            "24692       24692       0  3491799    4    6       0       0     2         1   \n",
            "\n",
            "       mut_aa  ...  mut_type  Gene ID  Gene Name or Symbol  Gene     logFC  \\\n",
            "24688       7  ...         1        2                    4     2  1.270285   \n",
            "24689       7  ...         1        2                    4     2  1.270285   \n",
            "24690      48  ...         1        2                    4     2  1.270285   \n",
            "24691      48  ...         1        2                    4     2  1.270285   \n",
            "24692      60  ...         1        2                    4     2  1.270285   \n",
            "\n",
            "            FDR  Description_Blast2GO  Sample_ID  Locality  Insecticides  \n",
            "24688  0.000389                     2          1         0             1  \n",
            "24689  0.000389                     2          1         0             1  \n",
            "24690  0.000389                     2          1         0             1  \n",
            "24691  0.000389                     2          1         0             1  \n",
            "24692  0.000389                     2          1         0             1  \n",
            "\n",
            "[5 rows x 23 columns]\n"
          ]
        },
        {
          "output_type": "stream",
          "name": "stderr",
          "text": [
            "<ipython-input-75-ffa05a10ece4>:19: SettingWithCopyWarning: \n",
            "A value is trying to be set on a copy of a slice from a DataFrame.\n",
            "Try using .loc[row_indexer,col_indexer] = value instead\n",
            "\n",
            "See the caveats in the documentation: https://pandas.pydata.org/pandas-docs/stable/user_guide/indexing.html#returning-a-view-versus-a-copy\n",
            "  df[column] = list(map(convert_to_int, df[column]))\n"
          ]
        }
      ]
    },
    {
      "cell_type": "code",
      "source": [
        "all_genes = handle_non_numerical_data(all_csv)"
      ],
      "metadata": {
        "id": "fyPNTBM9VdCL"
      },
      "execution_count": null,
      "outputs": []
    },
    {
      "cell_type": "code",
      "source": [
        "model = LinearRegression()\n"
      ],
      "metadata": {
        "id": "KfcAV9jZNJ7J"
      },
      "execution_count": null,
      "outputs": []
    },
    {
      "cell_type": "code",
      "source": [
        "all_csv_gene.columns"
      ],
      "metadata": {
        "colab": {
          "base_uri": "https://localhost:8080/"
        },
        "id": "y6slZgxfNTYz",
        "outputId": "d76bff48-7336-4f6e-cdc4-5bdb09a5b567"
      },
      "execution_count": null,
      "outputs": [
        {
          "output_type": "execute_result",
          "data": {
            "text/plain": [
              "Index(['Unnamed: 0', 'genome', 'POS', 'REF', 'ALT', 'effect', 'impact', 'gene',\n",
              "       'mut_cdna', 'mut_aa', 'pos_cdna', 'pos_aa', 'in_gene', 'mut_type',\n",
              "       'Gene ID', 'Gene Name or Symbol', 'Gene', 'logFC', 'FDR',\n",
              "       'Description_Blast2GO', 'Sample_ID', 'Locality', 'Insecticides'],\n",
              "      dtype='object')"
            ]
          },
          "metadata": {},
          "execution_count": 59
        }
      ]
    },
    {
      "cell_type": "code",
      "source": [
        "all_csv.columns"
      ],
      "metadata": {
        "colab": {
          "base_uri": "https://localhost:8080/"
        },
        "id": "0j6QyMeGVzdn",
        "outputId": "2fd66a1e-cdc1-45b6-e949-f1d16be7c3fd"
      },
      "execution_count": null,
      "outputs": [
        {
          "output_type": "execute_result",
          "data": {
            "text/plain": [
              "Index(['Unnamed: 0', 'genome', 'POS', 'REF', 'ALT', 'effect', 'impact', 'gene',\n",
              "       'mut_cdna', 'mut_aa', 'pos_cdna', 'pos_aa', 'in_gene', 'mut_type',\n",
              "       'Gene ID', 'Gene Name or Symbol', 'Gene', 'logFC', 'FDR',\n",
              "       'Description_Blast2GO', 'Sample_ID', 'Locality', 'Insecticides'],\n",
              "      dtype='object')"
            ]
          },
          "metadata": {},
          "execution_count": 91
        }
      ]
    },
    {
      "cell_type": "code",
      "source": [
        "model = model.fit( all_csv_gene[ [\"mut_aa\", 'Locality', 'Insecticides'] ], all_csv_gene[\"logFC\"])"
      ],
      "metadata": {
        "id": "HKMVWcxvNQbP"
      },
      "execution_count": null,
      "outputs": []
    },
    {
      "cell_type": "code",
      "source": [
        "all_genes[\"predict\"] = model.predict( all_genes )\n",
        "\n"
      ],
      "metadata": {
        "colab": {
          "base_uri": "https://localhost:8080/",
          "height": 460
        },
        "id": "SCnaD-aVQ6yZ",
        "outputId": "76d4e2c5-ec7f-4d5f-f727-39f51d88492c"
      },
      "execution_count": null,
      "outputs": [
        {
          "output_type": "error",
          "ename": "ValueError",
          "evalue": "The feature names should match those that were passed during fit.\nFeature names unseen at fit time:\n- ALT\n- Description_Blast2GO\n- FDR\n- Gene\n- Gene ID\n- ...\n",
          "traceback": [
            "\u001b[0;31m---------------------------------------------------------------------------\u001b[0m",
            "\u001b[0;31mValueError\u001b[0m                                Traceback (most recent call last)",
            "\u001b[0;32m<ipython-input-94-a9102f4564b0>\u001b[0m in \u001b[0;36m<cell line: 1>\u001b[0;34m()\u001b[0m\n\u001b[0;32m----> 1\u001b[0;31m \u001b[0mall_genes\u001b[0m\u001b[0;34m[\u001b[0m\u001b[0;34m\"predict\"\u001b[0m\u001b[0;34m]\u001b[0m \u001b[0;34m=\u001b[0m \u001b[0mmodel\u001b[0m\u001b[0;34m.\u001b[0m\u001b[0mpredict\u001b[0m\u001b[0;34m(\u001b[0m \u001b[0mall_genes\u001b[0m \u001b[0;34m)\u001b[0m\u001b[0;34m\u001b[0m\u001b[0;34m\u001b[0m\u001b[0m\n\u001b[0m\u001b[1;32m      2\u001b[0m \u001b[0;34m\u001b[0m\u001b[0m\n",
            "\u001b[0;32m/usr/local/lib/python3.10/dist-packages/sklearn/linear_model/_base.py\u001b[0m in \u001b[0;36mpredict\u001b[0;34m(self, X)\u001b[0m\n\u001b[1;32m    352\u001b[0m             \u001b[0mReturns\u001b[0m \u001b[0mpredicted\u001b[0m \u001b[0mvalues\u001b[0m\u001b[0;34m.\u001b[0m\u001b[0;34m\u001b[0m\u001b[0;34m\u001b[0m\u001b[0m\n\u001b[1;32m    353\u001b[0m         \"\"\"\n\u001b[0;32m--> 354\u001b[0;31m         \u001b[0;32mreturn\u001b[0m \u001b[0mself\u001b[0m\u001b[0;34m.\u001b[0m\u001b[0m_decision_function\u001b[0m\u001b[0;34m(\u001b[0m\u001b[0mX\u001b[0m\u001b[0;34m)\u001b[0m\u001b[0;34m\u001b[0m\u001b[0;34m\u001b[0m\u001b[0m\n\u001b[0m\u001b[1;32m    355\u001b[0m \u001b[0;34m\u001b[0m\u001b[0m\n\u001b[1;32m    356\u001b[0m     \u001b[0;32mdef\u001b[0m \u001b[0m_set_intercept\u001b[0m\u001b[0;34m(\u001b[0m\u001b[0mself\u001b[0m\u001b[0;34m,\u001b[0m \u001b[0mX_offset\u001b[0m\u001b[0;34m,\u001b[0m \u001b[0my_offset\u001b[0m\u001b[0;34m,\u001b[0m \u001b[0mX_scale\u001b[0m\u001b[0;34m)\u001b[0m\u001b[0;34m:\u001b[0m\u001b[0;34m\u001b[0m\u001b[0;34m\u001b[0m\u001b[0m\n",
            "\u001b[0;32m/usr/local/lib/python3.10/dist-packages/sklearn/linear_model/_base.py\u001b[0m in \u001b[0;36m_decision_function\u001b[0;34m(self, X)\u001b[0m\n\u001b[1;32m    335\u001b[0m         \u001b[0mcheck_is_fitted\u001b[0m\u001b[0;34m(\u001b[0m\u001b[0mself\u001b[0m\u001b[0;34m)\u001b[0m\u001b[0;34m\u001b[0m\u001b[0;34m\u001b[0m\u001b[0m\n\u001b[1;32m    336\u001b[0m \u001b[0;34m\u001b[0m\u001b[0m\n\u001b[0;32m--> 337\u001b[0;31m         \u001b[0mX\u001b[0m \u001b[0;34m=\u001b[0m \u001b[0mself\u001b[0m\u001b[0;34m.\u001b[0m\u001b[0m_validate_data\u001b[0m\u001b[0;34m(\u001b[0m\u001b[0mX\u001b[0m\u001b[0;34m,\u001b[0m \u001b[0maccept_sparse\u001b[0m\u001b[0;34m=\u001b[0m\u001b[0;34m[\u001b[0m\u001b[0;34m\"csr\"\u001b[0m\u001b[0;34m,\u001b[0m \u001b[0;34m\"csc\"\u001b[0m\u001b[0;34m,\u001b[0m \u001b[0;34m\"coo\"\u001b[0m\u001b[0;34m]\u001b[0m\u001b[0;34m,\u001b[0m \u001b[0mreset\u001b[0m\u001b[0;34m=\u001b[0m\u001b[0;32mFalse\u001b[0m\u001b[0;34m)\u001b[0m\u001b[0;34m\u001b[0m\u001b[0;34m\u001b[0m\u001b[0m\n\u001b[0m\u001b[1;32m    338\u001b[0m         \u001b[0;32mreturn\u001b[0m \u001b[0msafe_sparse_dot\u001b[0m\u001b[0;34m(\u001b[0m\u001b[0mX\u001b[0m\u001b[0;34m,\u001b[0m \u001b[0mself\u001b[0m\u001b[0;34m.\u001b[0m\u001b[0mcoef_\u001b[0m\u001b[0;34m.\u001b[0m\u001b[0mT\u001b[0m\u001b[0;34m,\u001b[0m \u001b[0mdense_output\u001b[0m\u001b[0;34m=\u001b[0m\u001b[0;32mTrue\u001b[0m\u001b[0;34m)\u001b[0m \u001b[0;34m+\u001b[0m \u001b[0mself\u001b[0m\u001b[0;34m.\u001b[0m\u001b[0mintercept_\u001b[0m\u001b[0;34m\u001b[0m\u001b[0;34m\u001b[0m\u001b[0m\n\u001b[1;32m    339\u001b[0m \u001b[0;34m\u001b[0m\u001b[0m\n",
            "\u001b[0;32m/usr/local/lib/python3.10/dist-packages/sklearn/base.py\u001b[0m in \u001b[0;36m_validate_data\u001b[0;34m(self, X, y, reset, validate_separately, **check_params)\u001b[0m\n\u001b[1;32m    546\u001b[0m             \u001b[0mvalidated\u001b[0m\u001b[0;34m.\u001b[0m\u001b[0;34m\u001b[0m\u001b[0;34m\u001b[0m\u001b[0m\n\u001b[1;32m    547\u001b[0m         \"\"\"\n\u001b[0;32m--> 548\u001b[0;31m         \u001b[0mself\u001b[0m\u001b[0;34m.\u001b[0m\u001b[0m_check_feature_names\u001b[0m\u001b[0;34m(\u001b[0m\u001b[0mX\u001b[0m\u001b[0;34m,\u001b[0m \u001b[0mreset\u001b[0m\u001b[0;34m=\u001b[0m\u001b[0mreset\u001b[0m\u001b[0;34m)\u001b[0m\u001b[0;34m\u001b[0m\u001b[0;34m\u001b[0m\u001b[0m\n\u001b[0m\u001b[1;32m    549\u001b[0m \u001b[0;34m\u001b[0m\u001b[0m\n\u001b[1;32m    550\u001b[0m         \u001b[0;32mif\u001b[0m \u001b[0my\u001b[0m \u001b[0;32mis\u001b[0m \u001b[0;32mNone\u001b[0m \u001b[0;32mand\u001b[0m \u001b[0mself\u001b[0m\u001b[0;34m.\u001b[0m\u001b[0m_get_tags\u001b[0m\u001b[0;34m(\u001b[0m\u001b[0;34m)\u001b[0m\u001b[0;34m[\u001b[0m\u001b[0;34m\"requires_y\"\u001b[0m\u001b[0;34m]\u001b[0m\u001b[0;34m:\u001b[0m\u001b[0;34m\u001b[0m\u001b[0;34m\u001b[0m\u001b[0m\n",
            "\u001b[0;32m/usr/local/lib/python3.10/dist-packages/sklearn/base.py\u001b[0m in \u001b[0;36m_check_feature_names\u001b[0;34m(self, X, reset)\u001b[0m\n\u001b[1;32m    479\u001b[0m                 )\n\u001b[1;32m    480\u001b[0m \u001b[0;34m\u001b[0m\u001b[0m\n\u001b[0;32m--> 481\u001b[0;31m             \u001b[0;32mraise\u001b[0m \u001b[0mValueError\u001b[0m\u001b[0;34m(\u001b[0m\u001b[0mmessage\u001b[0m\u001b[0;34m)\u001b[0m\u001b[0;34m\u001b[0m\u001b[0;34m\u001b[0m\u001b[0m\n\u001b[0m\u001b[1;32m    482\u001b[0m \u001b[0;34m\u001b[0m\u001b[0m\n\u001b[1;32m    483\u001b[0m     def _validate_data(\n",
            "\u001b[0;31mValueError\u001b[0m: The feature names should match those that were passed during fit.\nFeature names unseen at fit time:\n- ALT\n- Description_Blast2GO\n- FDR\n- Gene\n- Gene ID\n- ...\n"
          ]
        }
      ]
    },
    {
      "cell_type": "markdown",
      "source": [],
      "metadata": {
        "id": "tRvuroxLNAEp"
      }
    },
    {
      "cell_type": "code",
      "source": [
        "%load_ext rpy2.ipython"
      ],
      "metadata": {
        "id": "YiNZWwfgypLw"
      },
      "execution_count": null,
      "outputs": []
    },
    {
      "cell_type": "code",
      "source": [
        "%%R\n",
        "library(tidyverse)"
      ],
      "metadata": {
        "colab": {
          "base_uri": "https://localhost:8080/"
        },
        "id": "-cX2-I4oypnm",
        "outputId": "c01c0f34-c93d-47dc-946d-b8e39649bf38"
      },
      "execution_count": null,
      "outputs": [
        {
          "output_type": "stream",
          "name": "stdout",
          "text": [
            "── Attaching core tidyverse packages ──────────────────────── tidyverse 2.0.0 ──\n",
            "✔ dplyr     1.1.4     ✔ readr     2.1.5\n",
            "✔ forcats   1.0.0     ✔ stringr   1.5.1\n",
            "✔ ggplot2   3.4.4     ✔ tibble    3.2.1\n",
            "✔ lubridate 1.9.3     ✔ tidyr     1.3.0\n",
            "✔ purrr     1.0.2     \n",
            "── Conflicts ────────────────────────────────────────── tidyverse_conflicts() ──\n",
            "✖ dplyr::filter() masks stats::filter()\n",
            "✖ dplyr::lag()    masks stats::lag()\n",
            "ℹ Use the conflicted package (<http://conflicted.r-lib.org/>) to force all conflicts to become errors\n"
          ]
        }
      ]
    },
    {
      "cell_type": "code",
      "source": [
        "%%R\n",
        "df <- read.csv(\"all_csv_known_gene.csv\", sep =\",\")\n",
        "names(df)\n"
      ],
      "metadata": {
        "colab": {
          "base_uri": "https://localhost:8080/"
        },
        "id": "JwH4Dn6JzCac",
        "outputId": "d64204cf-98ff-4143-ea5f-cc09d12b307d"
      },
      "execution_count": null,
      "outputs": [
        {
          "output_type": "stream",
          "name": "stdout",
          "text": [
            " [1] \"X\"                    \"Unnamed..0\"           \"genome\"              \n",
            " [4] \"POS\"                  \"REF\"                  \"ALT\"                 \n",
            " [7] \"effect\"               \"impact\"               \"gene\"                \n",
            "[10] \"mut_cdna\"             \"mut_aa\"               \"pos_cdna\"            \n",
            "[13] \"pos_aa\"               \"in_gene\"              \"mut_type\"            \n",
            "[16] \"Gene.ID\"              \"Gene.Name.or.Symbol\"  \"Gene\"                \n",
            "[19] \"logFC\"                \"FDR\"                  \"Description_Blast2GO\"\n",
            "[22] \"Sample_ID\"            \"Locality\"             \"Insecticides\"        \n"
          ]
        }
      ]
    },
    {
      "cell_type": "code",
      "source": [
        "%%R\n",
        "model <- lm(logFC ~ mut_aa+Insecticides, data = df)"
      ],
      "metadata": {
        "id": "jJ2xn--5zyIr"
      },
      "execution_count": null,
      "outputs": []
    },
    {
      "cell_type": "code",
      "source": [
        "%%R\n",
        "summary(model)\n"
      ],
      "metadata": {
        "id": "NE5otyxK-uBM"
      },
      "execution_count": null,
      "outputs": []
    },
    {
      "cell_type": "code",
      "source": [
        "%%R\n",
        "\n",
        "install.packages(c(\"pacman\", \"readxl\", \"ggplot2\", \"lme4\", \"writexl\", \"tidyverse\",\n",
        "  \"dplyr\", \"car\",\"glmmTMB\", \"performance\", \"see\", \"DHARMa\", \"ggeffects\",\n",
        "  \"emmeans\",\"effects\", \"broom\", \"fitdistrplus\", \"splines\", \"lmerTest\",\n",
        "  \"broom.mixed\", \"MuMIn\",\"DHARMa\",\"ggeffects\", \"emmeans\",\"effects\", \"broom\",\n",
        "  \"fitdistrplus\", \"splines\", \"lmerTest\", \"broom.mixed\",\"devtools\",\"MASS\",\"RColorBrewer\",\n",
        "  \"cowplot\",\"reshape2\",\"GLMMmisc\",\"ggpattern\",\"tidyr\"))"
      ],
      "metadata": {
        "colab": {
          "base_uri": "https://localhost:8080/"
        },
        "id": "pWb92r6r_9Us",
        "outputId": "657a3365-b3e6-4bd1-9f04-fea8c46d706c"
      },
      "execution_count": null,
      "outputs": [
        {
          "output_type": "stream",
          "name": "stderr",
          "text": [
            "WARNING:rpy2.rinterface_lib.callbacks:R[write to console]: \n",
            "\n",
            "WARNING:rpy2.rinterface_lib.callbacks:R[write to console]: \n",
            "WARNING:rpy2.rinterface_lib.callbacks:R[write to console]: The downloaded source packages are in\n",
            "\t‘/tmp/RtmpkcXqVW/downloaded_packages’\n",
            "WARNING:rpy2.rinterface_lib.callbacks:R[write to console]: \n",
            "WARNING:rpy2.rinterface_lib.callbacks:R[write to console]: \n",
            "\n"
          ]
        }
      ]
    },
    {
      "cell_type": "code",
      "source": [
        "%%R\n",
        "\n",
        "pacman::p_load(Packages, character.only = TRUE) # load multiple packages\n",
        "Packages %in% loadedNamespaces()"
      ],
      "metadata": {
        "id": "e-0_UKemJ5PW"
      },
      "execution_count": null,
      "outputs": []
    },
    {
      "cell_type": "code",
      "source": [
        "%%R\n",
        "\n",
        "install.packages(\"DHARMa\")\n"
      ],
      "metadata": {
        "id": "JhErD0yxKm9k"
      },
      "execution_count": null,
      "outputs": []
    },
    {
      "cell_type": "code",
      "source": [
        "%%R\n",
        "\n",
        "library(DHARMa)"
      ],
      "metadata": {
        "colab": {
          "base_uri": "https://localhost:8080/"
        },
        "id": "Q62U32F0Kxg7",
        "outputId": "eaafeccb-d47a-4dd1-b25d-b8f1a4887430"
      },
      "execution_count": null,
      "outputs": [
        {
          "output_type": "stream",
          "name": "stderr",
          "text": [
            "WARNING:rpy2.rinterface_lib.callbacks:R[write to console]: This is DHARMa 0.4.6. For overview type '?DHARMa'. For recent changes, type news(package = 'DHARMa')\n",
            "\n"
          ]
        }
      ]
    },
    {
      "cell_type": "code",
      "source": [
        "%%R\n",
        "\n",
        "df_model <- filter(df , gene != c('AGAP002865', 'AGAP008212'))"
      ],
      "metadata": {
        "id": "U08JQT0qLolP"
      },
      "execution_count": null,
      "outputs": []
    },
    {
      "cell_type": "code",
      "source": [
        "%%R\n",
        "model <- lm(logFC ~ mut_aa, data = df_model)\n",
        "summary(model)"
      ],
      "metadata": {
        "id": "Fblih1hDLDxL"
      },
      "execution_count": null,
      "outputs": []
    },
    {
      "cell_type": "code",
      "source": [
        "%%R\n",
        "simulationOutput <- simulateResiduals(fittedModel = model, plot=F)\n",
        "plot(simulationOutput)"
      ],
      "metadata": {
        "colab": {
          "base_uri": "https://localhost:8080/",
          "height": 497
        },
        "id": "IDvxviAf_owj",
        "outputId": "3a17b457-3307-4eb5-9870-33938d538413"
      },
      "execution_count": null,
      "outputs": [
        {
          "output_type": "display_data",
          "data": {
            "image/png": "[encoded data removed]"
          },
          "metadata": {}
        }
      ]
    },
    {
      "cell_type": "code",
      "source": [
        "1005*216000\n"
      ],
      "metadata": {
        "colab": {
          "base_uri": "https://localhost:8080/"
        },
        "id": "UeHpTScxMcYx",
        "outputId": "83a55150-6b69-446d-95ef-b027d5e33c14"
      },
      "execution_count": null,
      "outputs": [
        {
          "output_type": "execute_result",
          "data": {
            "text/plain": [
              "217080000"
            ]
          },
          "metadata": {},
          "execution_count": 56
        }
      ]
    }
  ]
}